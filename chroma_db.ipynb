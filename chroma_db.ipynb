{
 "cells": [
  {
   "cell_type": "code",
   "execution_count": 1,
   "metadata": {},
   "outputs": [
    {
     "name": "stderr",
     "output_type": "stream",
     "text": [
      "/home/abhayrokkam/projects/chat-memory/.chat-memory/lib/python3.12/site-packages/tqdm/auto.py:21: TqdmWarning: IProgress not found. Please update jupyter and ipywidgets. See https://ipywidgets.readthedocs.io/en/stable/user_install.html\n",
      "  from .autonotebook import tqdm as notebook_tqdm\n"
     ]
    }
   ],
   "source": [
    "import chromadb\n",
    "\n",
    "from sentence_transformers import SentenceTransformer\n",
    "\n",
    "import re\n",
    "\n",
    "from langchain.document_loaders import Docx2txtLoader\n",
    "from langchain_text_splitters import RecursiveCharacterTextSplitter"
   ]
  },
  {
   "cell_type": "code",
   "execution_count": 2,
   "metadata": {},
   "outputs": [],
   "source": [
    "client = chromadb.Client()\n",
    "client = chromadb.PersistentClient(path='./chromadb/')"
   ]
  },
  {
   "cell_type": "code",
   "execution_count": 3,
   "metadata": {},
   "outputs": [],
   "source": [
    "model = SentenceTransformer('all-MiniLM-L6-v2')"
   ]
  },
  {
   "cell_type": "code",
   "execution_count": 4,
   "metadata": {},
   "outputs": [],
   "source": [
    "speaker_name_tag = \"Sanjay Sarma: \""
   ]
  },
  {
   "cell_type": "code",
   "execution_count": 5,
   "metadata": {},
   "outputs": [],
   "source": [
    "def get_document_chunks(file_path, chunk_size=500, chunk_overlap=100):\n",
    "    loader = Docx2txtLoader(file_path)\n",
    "    documents = loader.load()\n",
    "    \n",
    "    text_splitter = RecursiveCharacterTextSplitter(\n",
    "        chunk_size=chunk_size,\n",
    "        chunk_overlap=chunk_overlap\n",
    "    )\n",
    "    chunks = text_splitter.split_documents(documents)\n",
    "    return [chunk.page_content for chunk in chunks]\n",
    "\n",
    "def get_quoted_document_chunks(file_path, chunk_size=300, chunk_overlap=50):\n",
    "    loader = Docx2txtLoader(file_path)\n",
    "    documents = loader.load()\n",
    "    \n",
    "    text_splitter = RecursiveCharacterTextSplitter(\n",
    "        chunk_size=chunk_size,\n",
    "        chunk_overlap=chunk_overlap\n",
    "    )\n",
    "    chunks = text_splitter.split_documents(documents)\n",
    "    return [(speaker_name_tag + chunk.page_content) for chunk in chunks] "
   ]
  },
  {
   "cell_type": "code",
   "execution_count": 6,
   "metadata": {},
   "outputs": [],
   "source": [
    "collection_name = \"sanjay_sarma\"\n",
    "try:\n",
    "    collection = client.get_or_create_collection(name=collection_name)\n",
    "except Exception as e:\n",
    "    print(f\"Error creating or getting collection: {e}\")"
   ]
  },
  {
   "cell_type": "code",
   "execution_count": 7,
   "metadata": {},
   "outputs": [],
   "source": [
    "doc_path = \"./data/Doc1_Sanjay_Info.docx\"\n",
    "filter_pattern = r\"(?<=./data/)(.*?)(?=\\.docx)\"\n",
    "doc_title = re.search(filter_pattern, doc_path).group(0)\n",
    "\n",
    "chunks = get_document_chunks(doc_path)\n",
    "ids = [(doc_title + str(i)) for i in range(len(chunks))]\n",
    "metadata = [{'title': doc_title, 'text': chunk} for chunk in chunks]\n",
    "embeddings = model.encode(chunks)\n",
    "\n",
    "collection.add(\n",
    "    ids = ids,\n",
    "    documents=chunks,\n",
    "    metadatas=metadata,\n",
    "    embeddings=embeddings\n",
    ")"
   ]
  },
  {
   "cell_type": "code",
   "execution_count": 8,
   "metadata": {},
   "outputs": [],
   "source": [
    "doc_path = \"./data/Doc2_Sanjay_Interview.docx\"\n",
    "filter_pattern = r\"(?<=./data/)(.*?)(?=\\.docx)\"\n",
    "doc_title = re.search(filter_pattern, doc_path).group(0)\n",
    "\n",
    "chunks = get_quoted_document_chunks(doc_path)\n",
    "ids = [(doc_title + str(i)) for i in range(len(chunks))]\n",
    "metadata = [{'title': doc_title, 'text': chunk} for chunk in chunks]\n",
    "embeddings = model.encode(chunks)\n",
    "\n",
    "collection.add(\n",
    "    ids = ids,\n",
    "    documents=chunks,\n",
    "    metadatas=metadata,\n",
    "    embeddings=embeddings\n",
    ")"
   ]
  },
  {
   "cell_type": "code",
   "execution_count": 9,
   "metadata": {},
   "outputs": [
    {
     "name": "stdout",
     "output_type": "stream",
     "text": [
      "PDF document has been loaded, chunked, embedded, and stored in the database successfully!\n"
     ]
    }
   ],
   "source": [
    "print(\"PDF document has been loaded, chunked, embedded, and stored in the database successfully!\")"
   ]
  },
  {
   "cell_type": "code",
   "execution_count": 10,
   "metadata": {},
   "outputs": [],
   "source": [
    "# from langchain.vectorstores import Chroma\n",
    "\n",
    "# vectordb = Chroma(\n",
    "#     collection_name='sanjay_sarma',\n",
    "#     embedding_function=model,\n",
    "#     persist_directory=\"./chromadb\")"
   ]
  }
 ],
 "metadata": {
  "kernelspec": {
   "display_name": ".chat-memory",
   "language": "python",
   "name": "python3"
  },
  "language_info": {
   "codemirror_mode": {
    "name": "ipython",
    "version": 3
   },
   "file_extension": ".py",
   "mimetype": "text/x-python",
   "name": "python",
   "nbconvert_exporter": "python",
   "pygments_lexer": "ipython3",
   "version": "3.12.3"
  }
 },
 "nbformat": 4,
 "nbformat_minor": 2
}
