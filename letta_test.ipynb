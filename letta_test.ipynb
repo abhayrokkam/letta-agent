{
 "cells": [
  {
   "cell_type": "code",
   "execution_count": 17,
   "metadata": {},
   "outputs": [],
   "source": [
    "import letta\n",
    "\n",
    "from letta.schemas.memory import ChatMemory\n",
    "from prompts import sanjay_persona, system_prompt"
   ]
  },
  {
   "cell_type": "code",
   "execution_count": 18,
   "metadata": {},
   "outputs": [],
   "source": [
    "# Creating the letta_client and setting default LLM and Embedding Model\n",
    "letta_client = letta.create_client()\n",
    "\n",
    "letta_client.set_default_llm_config(letta.LLMConfig.default_config(\"gpt-4o-mini\")) \n",
    "letta_client.set_default_embedding_config(letta.EmbeddingConfig.default_config(\"text-embedding-ada-002\")) "
   ]
  },
  {
   "cell_type": "code",
   "execution_count": 19,
   "metadata": {},
   "outputs": [],
   "source": [
    "# Setting agent name\n",
    "agent_name = 'dr_sanjay_sarma'"
   ]
  },
  {
   "cell_type": "code",
   "execution_count": null,
   "metadata": {},
   "outputs": [],
   "source": [
    "# Delete agent if already exists. Throws error if it doesn't exist\n",
    "letta_client.delete_agent(letta_client.get_agent_id(agent_name))"
   ]
  },
  {
   "cell_type": "code",
   "execution_count": null,
   "metadata": {},
   "outputs": [],
   "source": [
    "# Loading information\n",
    "source_info = letta_client.create_source(\"sanjay_information\")\n",
    "\n",
    "letta_client.load_file_to_source(\n",
    "    filename=\"./data/Doc1_Sanjay_Info.pdf\", \n",
    "    source_id=source_info.id\n",
    ")\n",
    "\n",
    "# Loading interview\n",
    "source_interview = letta_client.create_source(\"sanjay_interview\")\n",
    "\n",
    "letta_client.load_file_to_source(\n",
    "    filename=\"./data/Doc2_Sanjay_Interview.pdf\", \n",
    "    source_id=source_interview.id\n",
    ")\n",
    "\n",
    "# Loading book\n",
    "source_book = letta_client.create_source(\"sanjay_book\")\n",
    "\n",
    "letta_client.load_file_to_source(\n",
    "    filename=\"./data/Doc3_ Sanjay_Book.pdf\", \n",
    "    source_id=source_book.id\n",
    ")"
   ]
  },
  {
   "cell_type": "code",
   "execution_count": null,
   "metadata": {},
   "outputs": [],
   "source": [
    "# Create sanjay agent\n",
    "agent_state = letta_client.create_agent(\n",
    "    name=agent_name, \n",
    "    memory=ChatMemory(\n",
    "        human=\"\",\n",
    "        persona=sanjay_persona\n",
    "    )\n",
    ")\n",
    "\n",
    "print(f\"Created agent with name {agent_state.name} and unique ID {agent_state.id}\")"
   ]
  },
  {
   "cell_type": "code",
   "execution_count": 24,
   "metadata": {},
   "outputs": [],
   "source": [
    "# Updating the system prompt\n",
    "agent_state.system = system_prompt"
   ]
  },
  {
   "cell_type": "code",
   "execution_count": null,
   "metadata": {},
   "outputs": [],
   "source": [
    "# Adding all the sources to agent\n",
    "letta_client.attach_source_to_agent(\n",
    "    agent_id=agent_state.id, \n",
    "    source_id=source_info.id\n",
    ")\n",
    "\n",
    "letta_client.attach_source_to_agent(\n",
    "    agent_id=agent_state.id, \n",
    "    source_id=source_interview.id\n",
    ")\n",
    "\n",
    "letta_client.attach_source_to_agent(\n",
    "    agent_id=agent_state.id, \n",
    "    source_id=source_book.id\n",
    ")"
   ]
  },
  {
   "cell_type": "code",
   "execution_count": null,
   "metadata": {},
   "outputs": [],
   "source": [
    "# Getting and printing response\n",
    "response = letta_client.send_message(\n",
    "    agent_id=agent_state.id, \n",
    "    message=\"\", \n",
    "    role=\"user\" \n",
    ")\n",
    "response"
   ]
  }
 ],
 "metadata": {
  "kernelspec": {
   "display_name": "Python 3",
   "language": "python",
   "name": "python3"
  },
  "language_info": {
   "codemirror_mode": {
    "name": "ipython",
    "version": 3
   },
   "file_extension": ".py",
   "mimetype": "text/x-python",
   "name": "python",
   "nbconvert_exporter": "python",
   "pygments_lexer": "ipython3",
   "version": "3.12.3"
  }
 },
 "nbformat": 4,
 "nbformat_minor": 2
}
