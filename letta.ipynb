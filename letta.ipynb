{
 "cells": [
  {
   "cell_type": "code",
   "execution_count": 1,
   "metadata": {},
   "outputs": [],
   "source": [
    "!rm  -f ~/.letta/sqlite.db"
   ]
  },
  {
   "cell_type": "code",
   "execution_count": 2,
   "metadata": {},
   "outputs": [],
   "source": [
    "import os\n",
    "\n",
    "from modules.utils import persist_chroma\n",
    "from modules.engine import create_sanjay_client, get_response"
   ]
  },
  {
   "cell_type": "code",
   "execution_count": 3,
   "metadata": {},
   "outputs": [],
   "source": [
    "persist_path = \"./chromadb\"\n",
    "doc_paths = [\"./data/Doc1_Sanjay_Info.docx\",\n",
    "             \"./data/Doc2_Sanjay_Interview.docx\",\n",
    "             \"./data/Doc3_Sanjay_Book.docx\"]\n",
    "\n",
    "if not os.path.isdir(persist_path):\n",
    "    persist_chroma(persist_path=persist_path,\n",
    "                   doc_paths=doc_paths)"
   ]
  },
  {
   "cell_type": "code",
   "execution_count": 4,
   "metadata": {},
   "outputs": [
    {
     "name": "stdout",
     "output_type": "stream",
     "text": [
      "Created agent with name sanjay_sarma and unique ID agent-89edb60a-48b9-4291-98ea-85e7b0cae569\n"
     ]
    }
   ],
   "source": [
    "sanjay_client, agent_state = create_sanjay_client()"
   ]
  },
  {
   "cell_type": "code",
   "execution_count": 5,
   "metadata": {},
   "outputs": [
    {
     "data": {
      "text/html": [
       "\n",
       "        <style>\n",
       "            .message-container, .usage-container {\n",
       "                font-family: 'Segoe UI', Tahoma, Geneva, Verdana, sans-serif;\n",
       "                max-width: 800px;\n",
       "                margin: 20px auto;\n",
       "                background-color: #1e1e1e;\n",
       "                border-radius: 8px;\n",
       "                overflow: hidden;\n",
       "                color: #d4d4d4;\n",
       "            }\n",
       "            .message, .usage-stats {\n",
       "                padding: 10px 15px;\n",
       "                border-bottom: 1px solid #3a3a3a;\n",
       "            }\n",
       "            .message:last-child, .usage-stats:last-child {\n",
       "                border-bottom: none;\n",
       "            }\n",
       "            .title {\n",
       "                font-weight: bold;\n",
       "                margin-bottom: 5px;\n",
       "                color: #ffffff;\n",
       "                text-transform: uppercase;\n",
       "                font-size: 0.9em;\n",
       "            }\n",
       "            .content {\n",
       "                background-color: #2d2d2d;\n",
       "                border-radius: 4px;\n",
       "                padding: 5px 10px;\n",
       "                font-family: 'Consolas', 'Courier New', monospace;\n",
       "                white-space: pre-wrap;\n",
       "            }\n",
       "            .json-key, .function-name, .json-boolean { color: #9cdcfe; }\n",
       "            .json-string { color: #ce9178; }\n",
       "            .json-number { color: #b5cea8; }\n",
       "            .internal-monologue { font-style: italic; }\n",
       "        </style>\n",
       "        <div class=\"message-container\">\n",
       "        \n",
       "            <div class=\"message\">\n",
       "                <div class=\"title\">REASONING MESSAGE</div>\n",
       "                <div class=\"content\"><span class=\"internal-monologue\">Curious to share my family history. It will help build rapport.</span></div>\n",
       "            </div>\n",
       "            \n",
       "            <div class=\"message\">\n",
       "                <div class=\"title\">TOOL CALL MESSAGE</div>\n",
       "                <div class=\"content\"><span class=\"function-name\">get_sanjay_information</span>({<br>&nbsp;&nbsp;<span class=\"json-key\">\"query\"</span>: <span class=\"json-key\">\"grandfather\",<br>&nbsp;&nbsp;\"request_heartbeat\"</span>: <span class=\"json-boolean\">true</span><br>})</div>\n",
       "            </div>\n",
       "            \n",
       "            <div class=\"message\">\n",
       "                <div class=\"title\">TOOL RETURN MESSAGE</div>\n",
       "                <div class=\"content\">{<br>&nbsp;&nbsp;<span class=\"json-key\">\"status\"</span>: <span class=\"json-key\">\"OK\",<br>&nbsp;&nbsp;\"message\"</span>: <span class=\"json-key\">\"Sanjay Sarma: my grandfather. That seamless coexistence was woven into the very fabric of our lives.Sanjay Sarma: Growing up in India, I saw how Gandhi’s idealism inspired people. My own family lived far from major metropolises like Madras or Calcutta, yet my grandfather and great-grandfather joined the freedom movement. My great-grandfather, a barrister, went so far as to burn his British clothes and law degree, plunging the family into poverty for the cause. That kind of idealism—distributed across communities—can ignite change.- He talks about spending time with his grandparents and cousins during summer&nbsp;&nbsp;vacations, particularly mentioning activities near the sea and building model ships. \\n\\n5. Childhood: \\n\\n - Sarma was an only child. \\n\\n - His family moved frequently (10-15 times) during his childhood due to his father's&nbsp;&nbsp;work as a bureaucrat. \\n\\n6. Family Background:Sanjay Sarma: \\\"I consider myself very lucky and privileged to have grown up in India. I come from an upper-caste family with highly educated parents. My father was a senior civil servant and a physicist, and my mother, a teacher, had a deep love for history. Conversations in my family often revolved around history, math, physics, politics, and Gandhi. My grandparents and other relatives were also incredibly well-read. Growing up in such a stimulating environment, I was constantly surrounded by knowledge andSanjay Sarma: \\\"When I was 14, my grandfather was in the military. He actually served in Malaysia,&nbsp;&nbsp;during World War II. When I was around 13 or 14, my mother and aunt sat my cousin and me down for a serious conversation. They said, 'We’re educated, but we’re not rich. If you get into IIT, life will be easier for you.' That advice stayed with me, and I began studying hard for the IIT entrance exams. Eventually, I got in, which was a defining moment in my life. IIT wasn’t just a place where I gained\",<br>&nbsp;&nbsp;\"time\"</span>: <span class=\"json-string\">\"2025-01-20 06:15:57 AM UTC+0000\"</span><br>}</div>\n",
       "            </div>\n",
       "            \n",
       "            <div class=\"message\">\n",
       "                <div class=\"title\">REASONING MESSAGE</div>\n",
       "                <div class=\"content\"><span class=\"internal-monologue\">Ready to share personal family history.</span></div>\n",
       "            </div>\n",
       "            \n",
       "            <div class=\"message\">\n",
       "                <div class=\"title\">TOOL CALL MESSAGE</div>\n",
       "                <div class=\"content\"><span class=\"function-name\">send_message</span>({<br>&nbsp;&nbsp;<span class=\"json-key\">\"message\"</span>: <span class=\"json-string\">\"My grandfather played a significant role in our family. He was deeply involved in the Indian freedom movement, inspired by figures like Gandhi. His idealism greatly influenced my upbringing. I recall fondly the summers spent with him and my cousins, crafting model ships by the sea.\"</span><br>})</div>\n",
       "            </div>\n",
       "            \n",
       "            <div class=\"message\">\n",
       "                <div class=\"title\">TOOL RETURN MESSAGE</div>\n",
       "                <div class=\"content\">{<br>&nbsp;&nbsp;<span class=\"json-key\">\"status\"</span>: <span class=\"json-key\">\"OK\",<br>&nbsp;&nbsp;\"message\"</span>: <span class=\"json-key\">\"None\",<br>&nbsp;&nbsp;\"time\"</span>: <span class=\"json-string\">\"2025-01-20 06:16:00 AM UTC+0000\"</span><br>}</div>\n",
       "            </div>\n",
       "            </div>\n",
       "        <div class=\"usage-container\">\n",
       "            <div class=\"usage-stats\">\n",
       "                <div class=\"title\">USAGE STATISTICS</div>\n",
       "                <div class=\"content\">{<br>&nbsp;&nbsp;<span class=\"json-key\">\"message_type\"</span>: <span class=\"json-key\">\"usage_statistics\",<br>&nbsp;&nbsp;\"completion_tokens\"</span>: <span class=\"json-number\">124</span>,<br>&nbsp;&nbsp;<span class=\"json-key\">\"prompt_tokens\"</span>: <span class=\"json-number\">5105</span>,<br>&nbsp;&nbsp;<span class=\"json-key\">\"total_tokens\"</span>: <span class=\"json-number\">5229</span>,<br>&nbsp;&nbsp;<span class=\"json-key\">\"step_count\"</span>: <span class=\"json-number\">2</span><br>}</div>\n",
       "            </div>\n",
       "        </div>\n",
       "        "
      ],
      "text/plain": [
       "LettaResponse(messages=[ReasoningMessage(id='message-b6548b06-dc06-43a6-b34f-97de12288bf5', date=datetime.datetime(2025, 1, 20, 6, 15, 56, 798393, tzinfo=datetime.timezone.utc), message_type='reasoning_message', reasoning='Curious to share my family history. It will help build rapport.'), ToolCallMessage(id='message-b6548b06-dc06-43a6-b34f-97de12288bf5', date=datetime.datetime(2025, 1, 20, 6, 15, 56, 798393, tzinfo=datetime.timezone.utc), message_type='tool_call_message', tool_call=ToolCall(name='get_sanjay_information', arguments='{\\n  \"query\": \"grandfather\",\\n  \"request_heartbeat\": true\\n}', tool_call_id='call_BmLh00NYxqxNF9kMEtVfBGbc')), ToolReturnMessage(id='message-41de90fb-7d87-472a-b549-1e8e5361bcfd', date=datetime.datetime(2025, 1, 20, 6, 15, 57, 376788, tzinfo=datetime.timezone.utc), message_type='tool_return_message', tool_return='{\\n  \"status\": \"OK\",\\n  \"message\": \"Sanjay Sarma: my grandfather. That seamless coexistence was woven into the very fabric of our lives.Sanjay Sarma: Growing up in India, I saw how Gandhi’s idealism inspired people. My own family lived far from major metropolises like Madras or Calcutta, yet my grandfather and great-grandfather joined the freedom movement. My great-grandfather, a barrister, went so far as to burn his British clothes and law degree, plunging the family into poverty for the cause. That kind of idealism—distributed across communities—can ignite change.- He talks about spending time with his grandparents and cousins during summer  vacations, particularly mentioning activities near the sea and building model ships. \\\\n\\\\n5. Childhood: \\\\n\\\\n - Sarma was an only child. \\\\n\\\\n - His family moved frequently (10-15 times) during his childhood due to his father\\'s  work as a bureaucrat. \\\\n\\\\n6. Family Background:Sanjay Sarma: \\\\\"I consider myself very lucky and privileged to have grown up in India. I come from an upper-caste family with highly educated parents. My father was a senior civil servant and a physicist, and my mother, a teacher, had a deep love for history. Conversations in my family often revolved around history, math, physics, politics, and Gandhi. My grandparents and other relatives were also incredibly well-read. Growing up in such a stimulating environment, I was constantly surrounded by knowledge andSanjay Sarma: \\\\\"When I was 14, my grandfather was in the military. He actually served in Malaysia,  during World War II. When I was around 13 or 14, my mother and aunt sat my cousin and me down for a serious conversation. They said, \\'We’re educated, but we’re not rich. If you get into IIT, life will be easier for you.\\' That advice stayed with me, and I began studying hard for the IIT entrance exams. Eventually, I got in, which was a defining moment in my life. IIT wasn’t just a place where I gained\",\\n  \"time\": \"2025-01-20 06:15:57 AM UTC+0000\"\\n}', status='success', tool_call_id='call_BmLh00NYxqxNF9kMEtVfBGbc', stdout=None, stderr=None), ReasoningMessage(id='message-eec0cb89-2be7-4f91-acc9-fd3959cab003', date=datetime.datetime(2025, 1, 20, 6, 16, 0, 1789, tzinfo=datetime.timezone.utc), message_type='reasoning_message', reasoning='Ready to share personal family history.'), ToolCallMessage(id='message-eec0cb89-2be7-4f91-acc9-fd3959cab003', date=datetime.datetime(2025, 1, 20, 6, 16, 0, 1789, tzinfo=datetime.timezone.utc), message_type='tool_call_message', tool_call=ToolCall(name='send_message', arguments='{\\n  \"message\": \"My grandfather played a significant role in our family. He was deeply involved in the Indian freedom movement, inspired by figures like Gandhi. His idealism greatly influenced my upbringing. I recall fondly the summers spent with him and my cousins, crafting model ships by the sea.\"\\n}', tool_call_id='call_3WFyuj3Bd08BzBETW7jgjgpA')), ToolReturnMessage(id='message-2f74afa7-9edf-4bfb-a24e-7efcc24e32c0', date=datetime.datetime(2025, 1, 20, 6, 16, 0, 3364, tzinfo=datetime.timezone.utc), message_type='tool_return_message', tool_return='{\\n  \"status\": \"OK\",\\n  \"message\": \"None\",\\n  \"time\": \"2025-01-20 06:16:00 AM UTC+0000\"\\n}', status='success', tool_call_id='call_3WFyuj3Bd08BzBETW7jgjgpA', stdout=None, stderr=None)], usage=LettaUsageStatistics(message_type='usage_statistics', completion_tokens=124, prompt_tokens=5105, total_tokens=5229, step_count=2))"
      ]
     },
     "execution_count": 5,
     "metadata": {},
     "output_type": "execute_result"
    }
   ],
   "source": [
    "# Getting and printing response\n",
    "user_message = \"tell me about your grandfather\"\n",
    "\n",
    "client_response, reply_message = get_response(query=user_message,\n",
    "                        letta_client=sanjay_client,\n",
    "                        agent_state=agent_state)\n",
    "\n",
    "client_response"
   ]
  },
  {
   "cell_type": "code",
   "execution_count": 6,
   "metadata": {},
   "outputs": [
    {
     "name": "stdout",
     "output_type": "stream",
     "text": [
      "My grandfather played a significant role in our family. He was deeply involved in the Indian freedom movement, inspired by figures like Gandhi. His idealism greatly influenced my upbringing. I recall fondly the summers spent with him and my cousins, crafting model ships by the sea.\n"
     ]
    }
   ],
   "source": [
    "print(reply_message)"
   ]
  }
 ],
 "metadata": {
  "kernelspec": {
   "display_name": ".chat-memory",
   "language": "python",
   "name": "python3"
  },
  "language_info": {
   "codemirror_mode": {
    "name": "ipython",
    "version": 3
   },
   "file_extension": ".py",
   "mimetype": "text/x-python",
   "name": "python",
   "nbconvert_exporter": "python",
   "pygments_lexer": "ipython3",
   "version": "3.12.3"
  }
 },
 "nbformat": 4,
 "nbformat_minor": 2
}
