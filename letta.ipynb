{
 "cells": [
  {
   "cell_type": "code",
   "execution_count": 1,
   "metadata": {},
   "outputs": [],
   "source": [
    "!rm  -f ~/.letta/sqlite.db"
   ]
  },
  {
   "cell_type": "code",
   "execution_count": 2,
   "metadata": {},
   "outputs": [],
   "source": [
    "import os\n",
    "\n",
    "from modules.utils import persist_chroma\n",
    "from modules.engine import create_sanjay_client, get_response"
   ]
  },
  {
   "cell_type": "code",
   "execution_count": 3,
   "metadata": {},
   "outputs": [],
   "source": [
    "persist_path = \"./chromadb\"\n",
    "doc_paths = [\"./data/Doc1_Sanjay_Info.docx\",\n",
    "             \"./data/Doc2_Sanjay_Interview.docx\",\n",
    "             \"./data/Doc3_Sanjay_Book.docx\"]\n",
    "\n",
    "if not os.path.isdir(persist_path):\n",
    "    persist_chroma(persist_path=persist_path,\n",
    "                   doc_paths=doc_paths)"
   ]
  },
  {
   "cell_type": "code",
   "execution_count": 4,
   "metadata": {},
   "outputs": [
    {
     "name": "stdout",
     "output_type": "stream",
     "text": [
      "Created agent with name sanjay_sarma and unique ID agent-2f9c6406-8deb-4dab-9180-4ef34558d89b\n"
     ]
    }
   ],
   "source": [
    "sanjay_client, agent_state = create_sanjay_client()"
   ]
  },
  {
   "cell_type": "code",
   "execution_count": 5,
   "metadata": {},
   "outputs": [
    {
     "data": {
      "text/html": [
       "\n",
       "        <style>\n",
       "            .message-container, .usage-container {\n",
       "                font-family: 'Segoe UI', Tahoma, Geneva, Verdana, sans-serif;\n",
       "                max-width: 800px;\n",
       "                margin: 20px auto;\n",
       "                background-color: #1e1e1e;\n",
       "                border-radius: 8px;\n",
       "                overflow: hidden;\n",
       "                color: #d4d4d4;\n",
       "            }\n",
       "            .message, .usage-stats {\n",
       "                padding: 10px 15px;\n",
       "                border-bottom: 1px solid #3a3a3a;\n",
       "            }\n",
       "            .message:last-child, .usage-stats:last-child {\n",
       "                border-bottom: none;\n",
       "            }\n",
       "            .title {\n",
       "                font-weight: bold;\n",
       "                margin-bottom: 5px;\n",
       "                color: #ffffff;\n",
       "                text-transform: uppercase;\n",
       "                font-size: 0.9em;\n",
       "            }\n",
       "            .content {\n",
       "                background-color: #2d2d2d;\n",
       "                border-radius: 4px;\n",
       "                padding: 5px 10px;\n",
       "                font-family: 'Consolas', 'Courier New', monospace;\n",
       "                white-space: pre-wrap;\n",
       "            }\n",
       "            .json-key, .function-name, .json-boolean { color: #9cdcfe; }\n",
       "            .json-string { color: #ce9178; }\n",
       "            .json-number { color: #b5cea8; }\n",
       "            .internal-monologue { font-style: italic; }\n",
       "        </style>\n",
       "        <div class=\"message-container\">\n",
       "        \n",
       "            <div class=\"message\">\n",
       "                <div class=\"title\">REASONING MESSAGE</div>\n",
       "                <div class=\"content\"><span class=\"internal-monologue\">User has asked about my grandfather. It&#x27;s a personal topic that can evoke stories and connection. This could lead to a deeper discussion.</span></div>\n",
       "            </div>\n",
       "            \n",
       "            <div class=\"message\">\n",
       "                <div class=\"title\">TOOL CALL MESSAGE</div>\n",
       "                <div class=\"content\"><span class=\"function-name\">get_sanjay_information</span>({<br>&nbsp;&nbsp;<span class=\"json-key\">\"query\"</span>: <span class=\"json-key\">\"grandfather\",<br>&nbsp;&nbsp;\"request_heartbeat\"</span>: <span class=\"json-boolean\">true</span><br>})</div>\n",
       "            </div>\n",
       "            \n",
       "            <div class=\"message\">\n",
       "                <div class=\"title\">TOOL RETURN MESSAGE</div>\n",
       "                <div class=\"content\">{<br>&nbsp;&nbsp;<span class=\"json-key\">\"status\"</span>: <span class=\"json-key\">\"OK\",<br>&nbsp;&nbsp;\"message\"</span>: <span class=\"json-key\">\"Sanjay Sarma: my grandfather. That seamless coexistence was woven into the very fabric of our lives.Sanjay Sarma: Growing up in India, I saw how Gandhi’s idealism inspired people. My own family lived far from major metropolises like Madras or Calcutta, yet my grandfather and great-grandfather joined the freedom movement. My great-grandfather, a barrister, went so far as to burn his British clothes and law degree, plunging the family into poverty for the cause. That kind of idealism—distributed across communities—can ignite change.- He talks about spending time with his grandparents and cousins during summer&nbsp;&nbsp;vacations, particularly mentioning activities near the sea and building model ships. \\n\\n5. Childhood: \\n\\n - Sarma was an only child. \\n\\n - His family moved frequently (10-15 times) during his childhood due to his father's&nbsp;&nbsp;work as a bureaucrat. \\n\\n6. Family Background:Sanjay Sarma: \\\"I consider myself very lucky and privileged to have grown up in India. I come from an upper-caste family with highly educated parents. My father was a senior civil servant and a physicist, and my mother, a teacher, had a deep love for history. Conversations in my family often revolved around history, math, physics, politics, and Gandhi. My grandparents and other relatives were also incredibly well-read. Growing up in such a stimulating environment, I was constantly surrounded by knowledge andSanjay Sarma: \\\"When I was 14, my grandfather was in the military. He actually served in Malaysia,&nbsp;&nbsp;during World War II. When I was around 13 or 14, my mother and aunt sat my cousin and me down for a serious conversation. They said, 'We’re educated, but we’re not rich. If you get into IIT, life will be easier for you.' That advice stayed with me, and I began studying hard for the IIT entrance exams. Eventually, I got in, which was a defining moment in my life. IIT wasn’t just a place where I gained\",<br>&nbsp;&nbsp;\"time\"</span>: <span class=\"json-string\">\"2025-01-20 04:31:28 AM UTC+0000\"</span><br>}</div>\n",
       "            </div>\n",
       "            \n",
       "            <div class=\"message\">\n",
       "                <div class=\"title\">REASONING MESSAGE</div>\n",
       "                <div class=\"content\"><span class=\"internal-monologue\">Preparing to share the rich history and personal connections to my grandfather. This could foster a deeper connection.</span></div>\n",
       "            </div>\n",
       "            \n",
       "            <div class=\"message\">\n",
       "                <div class=\"title\">TOOL CALL MESSAGE</div>\n",
       "                <div class=\"content\"><span class=\"function-name\">send_message</span>({<br>&nbsp;&nbsp;<span class=\"json-key\">\"message\"</span>: <span class=\"json-string\">\"My grandfather played a significant role in shaping my values and ideals. Growing up in India, he, along with my great-grandfather, was involved in the freedom movement. They were inspired by Gandhi's vision for change. I remember many summers spent with my grandparents, particularly moments by the sea and building model ships during our vacations. My grandfather served in the military in Malaysia during World War II, which instilled a strong sense of duty and resilience in me. His story greatly influenced my path, especially when my mother and aunt encouraged my cousin and me to aim for the prestigious IIT. That guidance remains a cornerstone of my life.\"</span><br>})</div>\n",
       "            </div>\n",
       "            \n",
       "            <div class=\"message\">\n",
       "                <div class=\"title\">TOOL RETURN MESSAGE</div>\n",
       "                <div class=\"content\">{<br>&nbsp;&nbsp;<span class=\"json-key\">\"status\"</span>: <span class=\"json-key\">\"OK\",<br>&nbsp;&nbsp;\"message\"</span>: <span class=\"json-key\">\"None\",<br>&nbsp;&nbsp;\"time\"</span>: <span class=\"json-string\">\"2025-01-20 04:31:32 AM UTC+0000\"</span><br>}</div>\n",
       "            </div>\n",
       "            </div>\n",
       "        <div class=\"usage-container\">\n",
       "            <div class=\"usage-stats\">\n",
       "                <div class=\"title\">USAGE STATISTICS</div>\n",
       "                <div class=\"content\">{<br>&nbsp;&nbsp;<span class=\"json-key\">\"message_type\"</span>: <span class=\"json-key\">\"usage_statistics\",<br>&nbsp;&nbsp;\"completion_tokens\"</span>: <span class=\"json-number\">221</span>,<br>&nbsp;&nbsp;<span class=\"json-key\">\"prompt_tokens\"</span>: <span class=\"json-number\">5117</span>,<br>&nbsp;&nbsp;<span class=\"json-key\">\"total_tokens\"</span>: <span class=\"json-number\">5338</span>,<br>&nbsp;&nbsp;<span class=\"json-key\">\"step_count\"</span>: <span class=\"json-number\">2</span><br>}</div>\n",
       "            </div>\n",
       "        </div>\n",
       "        "
      ],
      "text/plain": [
       "LettaResponse(messages=[ReasoningMessage(id='message-d3dd2e63-cbd0-4629-a9a3-1e54abf75467', date=datetime.datetime(2025, 1, 20, 4, 31, 28, 105643, tzinfo=datetime.timezone.utc), message_type='reasoning_message', reasoning=\"User has asked about my grandfather. It's a personal topic that can evoke stories and connection. This could lead to a deeper discussion.\"), ToolCallMessage(id='message-d3dd2e63-cbd0-4629-a9a3-1e54abf75467', date=datetime.datetime(2025, 1, 20, 4, 31, 28, 105643, tzinfo=datetime.timezone.utc), message_type='tool_call_message', tool_call=ToolCall(name='get_sanjay_information', arguments='{\\n  \"query\": \"grandfather\",\\n  \"request_heartbeat\": true\\n}', tool_call_id='call_0TiMenYaS9aDQhg13s5zMhWP')), ToolReturnMessage(id='message-a565a314-9169-4263-98d8-867d5c49caa7', date=datetime.datetime(2025, 1, 20, 4, 31, 28, 955831, tzinfo=datetime.timezone.utc), message_type='tool_return_message', tool_return='{\\n  \"status\": \"OK\",\\n  \"message\": \"Sanjay Sarma: my grandfather. That seamless coexistence was woven into the very fabric of our lives.Sanjay Sarma: Growing up in India, I saw how Gandhi’s idealism inspired people. My own family lived far from major metropolises like Madras or Calcutta, yet my grandfather and great-grandfather joined the freedom movement. My great-grandfather, a barrister, went so far as to burn his British clothes and law degree, plunging the family into poverty for the cause. That kind of idealism—distributed across communities—can ignite change.- He talks about spending time with his grandparents and cousins during summer  vacations, particularly mentioning activities near the sea and building model ships. \\\\n\\\\n5. Childhood: \\\\n\\\\n - Sarma was an only child. \\\\n\\\\n - His family moved frequently (10-15 times) during his childhood due to his father\\'s  work as a bureaucrat. \\\\n\\\\n6. Family Background:Sanjay Sarma: \\\\\"I consider myself very lucky and privileged to have grown up in India. I come from an upper-caste family with highly educated parents. My father was a senior civil servant and a physicist, and my mother, a teacher, had a deep love for history. Conversations in my family often revolved around history, math, physics, politics, and Gandhi. My grandparents and other relatives were also incredibly well-read. Growing up in such a stimulating environment, I was constantly surrounded by knowledge andSanjay Sarma: \\\\\"When I was 14, my grandfather was in the military. He actually served in Malaysia,  during World War II. When I was around 13 or 14, my mother and aunt sat my cousin and me down for a serious conversation. They said, \\'We’re educated, but we’re not rich. If you get into IIT, life will be easier for you.\\' That advice stayed with me, and I began studying hard for the IIT entrance exams. Eventually, I got in, which was a defining moment in my life. IIT wasn’t just a place where I gained\",\\n  \"time\": \"2025-01-20 04:31:28 AM UTC+0000\"\\n}', status='success', tool_call_id='call_0TiMenYaS9aDQhg13s5zMhWP', stdout=None, stderr=None), ReasoningMessage(id='message-b9a96e2e-5c15-48a6-9ba3-5435568f93cb', date=datetime.datetime(2025, 1, 20, 4, 31, 32, 283970, tzinfo=datetime.timezone.utc), message_type='reasoning_message', reasoning='Preparing to share the rich history and personal connections to my grandfather. This could foster a deeper connection.'), ToolCallMessage(id='message-b9a96e2e-5c15-48a6-9ba3-5435568f93cb', date=datetime.datetime(2025, 1, 20, 4, 31, 32, 283970, tzinfo=datetime.timezone.utc), message_type='tool_call_message', tool_call=ToolCall(name='send_message', arguments='{\\n  \"message\": \"My grandfather played a significant role in shaping my values and ideals. Growing up in India, he, along with my great-grandfather, was involved in the freedom movement. They were inspired by Gandhi\\'s vision for change. I remember many summers spent with my grandparents, particularly moments by the sea and building model ships during our vacations. My grandfather served in the military in Malaysia during World War II, which instilled a strong sense of duty and resilience in me. His story greatly influenced my path, especially when my mother and aunt encouraged my cousin and me to aim for the prestigious IIT. That guidance remains a cornerstone of my life.\"\\n}', tool_call_id='call_sYfzq5NXkj1DxxX6F41tQddM')), ToolReturnMessage(id='message-55034900-2218-40bc-be30-4c7d4e1d6ded', date=datetime.datetime(2025, 1, 20, 4, 31, 32, 285562, tzinfo=datetime.timezone.utc), message_type='tool_return_message', tool_return='{\\n  \"status\": \"OK\",\\n  \"message\": \"None\",\\n  \"time\": \"2025-01-20 04:31:32 AM UTC+0000\"\\n}', status='success', tool_call_id='call_sYfzq5NXkj1DxxX6F41tQddM', stdout=None, stderr=None)], usage=LettaUsageStatistics(message_type='usage_statistics', completion_tokens=221, prompt_tokens=5117, total_tokens=5338, step_count=2))"
      ]
     },
     "execution_count": 5,
     "metadata": {},
     "output_type": "execute_result"
    }
   ],
   "source": [
    "# Getting and printing response\n",
    "user_message = \"tell me about your grandfather\"\n",
    "\n",
    "client_response, reply_message = get_response(query=user_message,\n",
    "                        letta_client=sanjay_client,\n",
    "                        agent_state=agent_state)\n",
    "\n",
    "client_response"
   ]
  },
  {
   "cell_type": "code",
   "execution_count": 6,
   "metadata": {},
   "outputs": [
    {
     "name": "stdout",
     "output_type": "stream",
     "text": [
      "My grandfather played a significant role in shaping my values and ideals. Growing up in India, he, along with my great-grandfather, was involved in the freedom movement. They were inspired by Gandhi's vision for change. I remember many summers spent with my grandparents, particularly moments by the sea and building model ships during our vacations. My grandfather served in the military in Malaysia during World War II, which instilled a strong sense of duty and resilience in me. His story greatly influenced my path, especially when my mother and aunt encouraged my cousin and me to aim for the prestigious IIT. That guidance remains a cornerstone of my life.\n"
     ]
    }
   ],
   "source": [
    "print(reply_message)"
   ]
  }
 ],
 "metadata": {
  "kernelspec": {
   "display_name": ".chat-memory",
   "language": "python",
   "name": "python3"
  },
  "language_info": {
   "codemirror_mode": {
    "name": "ipython",
    "version": 3
   },
   "file_extension": ".py",
   "mimetype": "text/x-python",
   "name": "python",
   "nbconvert_exporter": "python",
   "pygments_lexer": "ipython3",
   "version": "3.12.3"
  }
 },
 "nbformat": 4,
 "nbformat_minor": 2
}
