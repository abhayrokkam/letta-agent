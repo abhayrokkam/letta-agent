{
 "cells": [
  {
   "cell_type": "code",
   "execution_count": 1,
   "metadata": {},
   "outputs": [],
   "source": [
    "!rm  -f ~/.letta/sqlite.db"
   ]
  },
  {
   "cell_type": "code",
   "execution_count": 2,
   "metadata": {},
   "outputs": [],
   "source": [
    "import os\n",
    "\n",
    "from modules.utils import persist_chroma\n",
    "from modules.engine import create_sanjay_client"
   ]
  },
  {
   "cell_type": "code",
   "execution_count": 3,
   "metadata": {},
   "outputs": [],
   "source": [
    "persist_path = \"./chromadb\"\n",
    "doc_paths = [\"./data/Doc1_Sanjay_Info.docx\",\n",
    "             \"./data/Doc2_Sanjay_Interview.docx\",\n",
    "             \"./data/Doc3_Sanjay_Book.docx\"]\n",
    "\n",
    "if not os.path.isdir(persist_path):\n",
    "    persist_chroma(persist_path=persist_path,\n",
    "                   doc_paths=doc_paths)"
   ]
  },
  {
   "cell_type": "code",
   "execution_count": null,
   "metadata": {},
   "outputs": [],
   "source": [
    "sanjay_client, agent_state = create_sanjay_client()"
   ]
  },
  {
   "cell_type": "code",
   "execution_count": null,
   "metadata": {},
   "outputs": [],
   "source": [
    "# Getting and printing response\n",
    "user_message = \"tell me about your grandfather\"\n",
    "\n",
    "response = sanjay_client.send_message(\n",
    "    agent_id=agent_state.id, \n",
    "    message=user_message, \n",
    "    role=\"user\" \n",
    ")\n",
    "response"
   ]
  }
 ],
 "metadata": {
  "kernelspec": {
   "display_name": ".chat-memory",
   "language": "python",
   "name": "python3"
  },
  "language_info": {
   "codemirror_mode": {
    "name": "ipython",
    "version": 3
   },
   "file_extension": ".py",
   "mimetype": "text/x-python",
   "name": "python",
   "nbconvert_exporter": "python",
   "pygments_lexer": "ipython3",
   "version": "3.12.3"
  }
 },
 "nbformat": 4,
 "nbformat_minor": 2
}
