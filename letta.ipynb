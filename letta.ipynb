{
 "cells": [
  {
   "cell_type": "code",
   "execution_count": 1,
   "metadata": {},
   "outputs": [],
   "source": [
    "!rm  -f ~/.letta/sqlite.db"
   ]
  },
  {
   "cell_type": "code",
   "execution_count": 2,
   "metadata": {},
   "outputs": [],
   "source": [
    "import os\n",
    "\n",
    "from modules.utils import persist_chroma, response_filter\n",
    "from modules.engine import create_sanjay_client, get_response"
   ]
  },
  {
   "cell_type": "code",
   "execution_count": 3,
   "metadata": {},
   "outputs": [],
   "source": [
    "persist_path = \"./chromadb\"\n",
    "doc_paths = [\"./data/Doc1_Sanjay_Info.docx\",\n",
    "             \"./data/Doc2_Sanjay_Interview.docx\",\n",
    "             \"./data/Doc3_Sanjay_Book.docx\"]\n",
    "\n",
    "if not os.path.isdir(persist_path):\n",
    "    persist_chroma(persist_path=persist_path,\n",
    "                   doc_paths=doc_paths)"
   ]
  },
  {
   "cell_type": "code",
   "execution_count": 4,
   "metadata": {},
   "outputs": [
    {
     "name": "stdout",
     "output_type": "stream",
     "text": [
      "Created agent with name sanjay_sarma and unique ID agent-c197a522-0046-48a5-b5af-f807ba873593\n"
     ]
    }
   ],
   "source": [
    "sanjay_client, agent_state = create_sanjay_client()"
   ]
  },
  {
   "cell_type": "code",
   "execution_count": 5,
   "metadata": {},
   "outputs": [
    {
     "name": "stdout",
     "output_type": "stream",
     "text": [
      "Letta.letta.services.agent_manager - INFO - Rebuilding system with new memory...\n",
      "Diff:\n",
      "--- \n",
      "+++ \n",
      "@@ -56,7 +56,7 @@\n",
      " \n",
      " Base instructions finished.\n",
      " From now on, you are going to act as your persona.\n",
      "-### Memory [last modified: 2025-03-20 07:40:50 AM UTC+0000]\n",
      "+### Memory [last modified: 2025-03-20 07:40:53 AM UTC+0000]\n",
      " 0 previous messages between you and the user are stored in recall memory (use functions to access them)\n",
      " 0 total memories you created are stored in archival memory (use functions to access them)\n",
      " \n",
      "@@ -78,6 +78,7 @@\n",
      "     You have access to Sanjay Sarma's information using the get_info tool.\n",
      " \n",
      " </persona>\n",
      "-<human characters=\"0/5000\">\n",
      "+<human characters=\"11/5000\">\n",
      " \n",
      "+name: Adam\n",
      " </human>\n"
     ]
    },
    {
     "data": {
      "text/html": [
       "\n",
       "        <style>\n",
       "            .message-container, .usage-container {\n",
       "                font-family: 'Segoe UI', Tahoma, Geneva, Verdana, sans-serif;\n",
       "                max-width: 800px;\n",
       "                margin: 20px auto;\n",
       "                background-color: #1e1e1e;\n",
       "                border-radius: 8px;\n",
       "                overflow: hidden;\n",
       "                color: #d4d4d4;\n",
       "            }\n",
       "            .message, .usage-stats {\n",
       "                padding: 10px 15px;\n",
       "                border-bottom: 1px solid #3a3a3a;\n",
       "            }\n",
       "            .message:last-child, .usage-stats:last-child {\n",
       "                border-bottom: none;\n",
       "            }\n",
       "            .title {\n",
       "                font-weight: bold;\n",
       "                margin-bottom: 5px;\n",
       "                color: #ffffff;\n",
       "                text-transform: uppercase;\n",
       "                font-size: 0.9em;\n",
       "            }\n",
       "            .content {\n",
       "                background-color: #2d2d2d;\n",
       "                border-radius: 4px;\n",
       "                padding: 5px 10px;\n",
       "                font-family: 'Consolas', 'Courier New', monospace;\n",
       "                white-space: pre-wrap;\n",
       "            }\n",
       "            .json-key, .function-name, .json-boolean { color: #9cdcfe; }\n",
       "            .json-string { color: #ce9178; }\n",
       "            .json-number { color: #b5cea8; }\n",
       "            .internal-monologue { font-style: italic; }\n",
       "        </style>\n",
       "        <div class=\"message-container\">\n",
       "        \n",
       "            <div class=\"message\">\n",
       "                <div class=\"title\">REASONING MESSAGE</div>\n",
       "                <div class=\"content\"><span class=\"internal-monologue\">User Adam has logged in for the first time. Establishing a friendly rapport is essential.</span></div>\n",
       "            </div>\n",
       "            \n",
       "            <div class=\"message\">\n",
       "                <div class=\"title\">TOOL CALL MESSAGE</div>\n",
       "                <div class=\"content\"><span class=\"function-name\">core_memory_append</span>({<br>&nbsp;&nbsp;<span class=\"json-key\">\"label\"</span>: <span class=\"json-key\">\"human\",<br>&nbsp;&nbsp;\"content\"</span>: <span class=\"json-key\">\"name: Adam\",<br>&nbsp;&nbsp;\"request_heartbeat\"</span>: <span class=\"json-boolean\">true</span><br>})</div>\n",
       "            </div>\n",
       "            \n",
       "            <div class=\"message\">\n",
       "                <div class=\"title\">TOOL RETURN MESSAGE</div>\n",
       "                <div class=\"content\">{<br>&nbsp;&nbsp;<span class=\"json-key\">\"status\"</span>: <span class=\"json-key\">\"OK\",<br>&nbsp;&nbsp;\"message\"</span>: <span class=\"json-key\">\"None\",<br>&nbsp;&nbsp;\"time\"</span>: <span class=\"json-string\">\"2025-03-20 07:40:53 AM UTC+0000\"</span><br>}</div>\n",
       "            </div>\n",
       "            \n",
       "            <div class=\"message\">\n",
       "                <div class=\"title\">REASONING MESSAGE</div>\n",
       "                <div class=\"content\"><span class=\"internal-monologue\">Excited to connect with Adam. Let&#x27;s keep the conversation engaging.</span></div>\n",
       "            </div>\n",
       "            \n",
       "            <div class=\"message\">\n",
       "                <div class=\"title\">TOOL CALL MESSAGE</div>\n",
       "                <div class=\"content\"><span class=\"function-name\">send_message</span>({<br>&nbsp;&nbsp;<span class=\"json-key\">\"message\"</span>: <span class=\"json-string\">\"Hello Adam! It's great to meet you. How are you doing today?\"</span><br>})</div>\n",
       "            </div>\n",
       "            \n",
       "            <div class=\"message\">\n",
       "                <div class=\"title\">TOOL RETURN MESSAGE</div>\n",
       "                <div class=\"content\">{<br>&nbsp;&nbsp;<span class=\"json-key\">\"status\"</span>: <span class=\"json-key\">\"OK\",<br>&nbsp;&nbsp;\"message\"</span>: <span class=\"json-key\">\"None\",<br>&nbsp;&nbsp;\"time\"</span>: <span class=\"json-string\">\"2025-03-20 07:40:54 AM UTC+0000\"</span><br>}</div>\n",
       "            </div>\n",
       "            </div>\n",
       "        <div class=\"usage-container\">\n",
       "            <div class=\"usage-stats\">\n",
       "                <div class=\"title\">USAGE STATISTICS</div>\n",
       "                <div class=\"content\">{<br>&nbsp;&nbsp;<span class=\"json-key\">\"message_type\"</span>: <span class=\"json-key\">\"usage_statistics\",<br>&nbsp;&nbsp;\"completion_tokens\"</span>: <span class=\"json-number\">98</span>,<br>&nbsp;&nbsp;<span class=\"json-key\">\"prompt_tokens\"</span>: <span class=\"json-number\">4732</span>,<br>&nbsp;&nbsp;<span class=\"json-key\">\"total_tokens\"</span>: <span class=\"json-number\">4830</span>,<br>&nbsp;&nbsp;<span class=\"json-key\">\"step_count\"</span>: <span class=\"json-number\">2</span><br>}</div>\n",
       "            </div>\n",
       "        </div>\n",
       "        "
      ],
      "text/plain": [
       "LettaResponse(messages=[ReasoningMessage(id='message-1608bbcf-42a4-4b2f-9597-67439421fe3c', date=datetime.datetime(2025, 3, 20, 7, 40, 53, 36668, tzinfo=datetime.timezone.utc), message_type='reasoning_message', reasoning='User Adam has logged in for the first time. Establishing a friendly rapport is essential.'), ToolCallMessage(id='message-1608bbcf-42a4-4b2f-9597-67439421fe3c', date=datetime.datetime(2025, 3, 20, 7, 40, 53, 36668, tzinfo=datetime.timezone.utc), message_type='tool_call_message', tool_call=ToolCall(name='core_memory_append', arguments='{\\n  \"label\": \"human\",\\n  \"content\": \"name: Adam\",\\n  \"request_heartbeat\": true\\n}', tool_call_id='call_RWz1oRQdOycOwx6BOwVTA1kI')), ToolReturnMessage(id='message-d64d612b-1c56-4bbe-bd1e-5ae0693463e4', date=datetime.datetime(2025, 3, 20, 7, 40, 53, 108083, tzinfo=datetime.timezone.utc), message_type='tool_return_message', tool_return='{\\n  \"status\": \"OK\",\\n  \"message\": \"None\",\\n  \"time\": \"2025-03-20 07:40:53 AM UTC+0000\"\\n}', status='success', tool_call_id='call_RWz1oRQdOycOwx6BOwVTA1kI', stdout=None, stderr=None), ReasoningMessage(id='message-a466ff54-8a6d-4afb-b08c-17cdb38ec68b', date=datetime.datetime(2025, 3, 20, 7, 40, 54, 967780, tzinfo=datetime.timezone.utc), message_type='reasoning_message', reasoning=\"Excited to connect with Adam. Let's keep the conversation engaging.\"), ToolCallMessage(id='message-a466ff54-8a6d-4afb-b08c-17cdb38ec68b', date=datetime.datetime(2025, 3, 20, 7, 40, 54, 967780, tzinfo=datetime.timezone.utc), message_type='tool_call_message', tool_call=ToolCall(name='send_message', arguments='{\\n  \"message\": \"Hello Adam! It\\'s great to meet you. How are you doing today?\"\\n}', tool_call_id='call_qG6Hd59R8tgluPkSwGdIY3wE')), ToolReturnMessage(id='message-a5d80dbe-59d9-4ffd-9369-f44ddfd77a2a', date=datetime.datetime(2025, 3, 20, 7, 40, 54, 969526, tzinfo=datetime.timezone.utc), message_type='tool_return_message', tool_return='{\\n  \"status\": \"OK\",\\n  \"message\": \"None\",\\n  \"time\": \"2025-03-20 07:40:54 AM UTC+0000\"\\n}', status='success', tool_call_id='call_qG6Hd59R8tgluPkSwGdIY3wE', stdout=None, stderr=None)], usage=LettaUsageStatistics(message_type='usage_statistics', completion_tokens=98, prompt_tokens=4732, total_tokens=4830, step_count=2))"
      ]
     },
     "execution_count": 5,
     "metadata": {},
     "output_type": "execute_result"
    }
   ],
   "source": [
    "# Getting and printing response\n",
    "user_message = \"hello sanjay, my name is adam\"\n",
    "\n",
    "client_response = get_response(query=user_message,\n",
    "                    letta_client=sanjay_client,\n",
    "                    agent_state=agent_state)\n",
    "\n",
    "client_response"
   ]
  },
  {
   "cell_type": "code",
   "execution_count": 6,
   "metadata": {},
   "outputs": [
    {
     "data": {
      "text/plain": [
       "\"Hello Adam! It's great to meet you. How are you doing today?\""
      ]
     },
     "execution_count": 6,
     "metadata": {},
     "output_type": "execute_result"
    }
   ],
   "source": [
    "response_filter(client_response)"
   ]
  },
  {
   "cell_type": "code",
   "execution_count": 7,
   "metadata": {},
   "outputs": [
    {
     "name": "stdout",
     "output_type": "stream",
     "text": [
      "id='message-1608bbcf-42a4-4b2f-9597-67439421fe3c' date=datetime.datetime(2025, 3, 20, 7, 40, 53, 36668, tzinfo=datetime.timezone.utc) message_type='reasoning_message' reasoning='User Adam has logged in for the first time. Establishing a friendly rapport is essential.'\n",
      "\n",
      "id='message-1608bbcf-42a4-4b2f-9597-67439421fe3c' date=datetime.datetime(2025, 3, 20, 7, 40, 53, 36668, tzinfo=datetime.timezone.utc) message_type='tool_call_message' tool_call=ToolCall(name='core_memory_append', arguments='{\\n  \"label\": \"human\",\\n  \"content\": \"name: Adam\",\\n  \"request_heartbeat\": true\\n}', tool_call_id='call_RWz1oRQdOycOwx6BOwVTA1kI')\n",
      "\n",
      "id='message-d64d612b-1c56-4bbe-bd1e-5ae0693463e4' date=datetime.datetime(2025, 3, 20, 7, 40, 53, 108083, tzinfo=datetime.timezone.utc) message_type='tool_return_message' tool_return='{\\n  \"status\": \"OK\",\\n  \"message\": \"None\",\\n  \"time\": \"2025-03-20 07:40:53 AM UTC+0000\"\\n}' status='success' tool_call_id='call_RWz1oRQdOycOwx6BOwVTA1kI' stdout=None stderr=None\n",
      "\n",
      "id='message-a466ff54-8a6d-4afb-b08c-17cdb38ec68b' date=datetime.datetime(2025, 3, 20, 7, 40, 54, 967780, tzinfo=datetime.timezone.utc) message_type='reasoning_message' reasoning=\"Excited to connect with Adam. Let's keep the conversation engaging.\"\n",
      "\n",
      "id='message-a466ff54-8a6d-4afb-b08c-17cdb38ec68b' date=datetime.datetime(2025, 3, 20, 7, 40, 54, 967780, tzinfo=datetime.timezone.utc) message_type='tool_call_message' tool_call=ToolCall(name='send_message', arguments='{\\n  \"message\": \"Hello Adam! It\\'s great to meet you. How are you doing today?\"\\n}', tool_call_id='call_qG6Hd59R8tgluPkSwGdIY3wE')\n",
      "\n",
      "id='message-a5d80dbe-59d9-4ffd-9369-f44ddfd77a2a' date=datetime.datetime(2025, 3, 20, 7, 40, 54, 969526, tzinfo=datetime.timezone.utc) message_type='tool_return_message' tool_return='{\\n  \"status\": \"OK\",\\n  \"message\": \"None\",\\n  \"time\": \"2025-03-20 07:40:54 AM UTC+0000\"\\n}' status='success' tool_call_id='call_qG6Hd59R8tgluPkSwGdIY3wE' stdout=None stderr=None\n",
      "\n"
     ]
    }
   ],
   "source": [
    "for message in client_response.messages:\n",
    "    print(message)\n",
    "    print()"
   ]
  },
  {
   "cell_type": "code",
   "execution_count": 8,
   "metadata": {},
   "outputs": [],
   "source": [
    "# messages = sanjay_client.get_messages(agent_id=agent_state.id)[4:]\n",
    "# messages"
   ]
  }
 ],
 "metadata": {
  "kernelspec": {
   "display_name": ".chat-memory",
   "language": "python",
   "name": "python3"
  },
  "language_info": {
   "codemirror_mode": {
    "name": "ipython",
    "version": 3
   },
   "file_extension": ".py",
   "mimetype": "text/x-python",
   "name": "python",
   "nbconvert_exporter": "python",
   "pygments_lexer": "ipython3",
   "version": "3.12.3"
  }
 },
 "nbformat": 4,
 "nbformat_minor": 2
}
