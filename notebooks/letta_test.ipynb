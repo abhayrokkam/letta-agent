{
 "cells": [
  {
   "cell_type": "code",
   "execution_count": 1,
   "metadata": {},
   "outputs": [],
   "source": [
    "!rm  -f ~/.letta/sqlite.db"
   ]
  },
  {
   "cell_type": "code",
   "execution_count": 2,
   "metadata": {},
   "outputs": [],
   "source": [
    "import letta\n",
    "from letta.schemas.memory import ChatMemory\n",
    "\n",
    "import chromadb\n",
    "\n",
    "from langchain_openai import OpenAIEmbeddings\n",
    "from langchain.vectorstores import Chroma\n",
    "\n",
    "import os\n",
    "import sys\n",
    "super_directory = os.path.abspath('..')\n",
    "sys.path.append(super_directory)\n",
    "\n",
    "from prompts import sanjay_persona, system_prompt"
   ]
  },
  {
   "cell_type": "code",
   "execution_count": 3,
   "metadata": {},
   "outputs": [],
   "source": [
    "# Creating the letta_client and setting default LLM and Embedding Model\n",
    "letta_client = letta.create_client()\n",
    "\n",
    "letta_client.set_default_llm_config(letta.LLMConfig.default_config(\"gpt-4o-mini\")) \n",
    "letta_client.set_default_embedding_config(letta.EmbeddingConfig.default_config(\"text-embedding-ada-002\")) "
   ]
  },
  {
   "cell_type": "code",
   "execution_count": 4,
   "metadata": {},
   "outputs": [],
   "source": [
    "# Setting agent name\n",
    "agent_name = 'dr_sanjay_sarma'"
   ]
  },
  {
   "cell_type": "code",
   "execution_count": 5,
   "metadata": {},
   "outputs": [
    {
     "name": "stderr",
     "output_type": "stream",
     "text": [
      "/tmp/ipykernel_22845/2753136756.py:7: LangChainDeprecationWarning: The class `Chroma` was deprecated in LangChain 0.2.9 and will be removed in 1.0. An updated version of the class exists in the :class:`~langchain-chroma package and should be used instead. To use it run `pip install -U :class:`~langchain-chroma` and import as `from :class:`~langchain_chroma import Chroma``.\n",
      "  vectordb = Chroma(\n"
     ]
    }
   ],
   "source": [
    "# Getting the vector_db with Sanjay Sarma's information\n",
    "chroma_client = chromadb.PersistentClient(path='../chromadb')\n",
    "sanjay_collection = chroma_client.get_collection(name='sanjay_sarma')\n",
    "\n",
    "vdb_embed_model = OpenAIEmbeddings(model='text-embedding-ada-002')\n",
    "\n",
    "vectordb = Chroma(\n",
    "    collection_name='sanjay_sarma',\n",
    "    embedding_function=vdb_embed_model,\n",
    "    persist_directory=\"../chromadb\")"
   ]
  },
  {
   "cell_type": "code",
   "execution_count": 6,
   "metadata": {},
   "outputs": [],
   "source": [
    "# Function as tool\n",
    "def get_sanjay_information(query: str):\n",
    "    \"\"\"\n",
    "    Retrieves relevant information related to a query.\n",
    "\n",
    "    Args:\n",
    "        query (str): The query string for which information is being retrieved.\n",
    "\n",
    "    Returns:\n",
    "        str: The concatenated content of the relevant search results based on the query.\n",
    "    \"\"\"\n",
    "    from langchain_openai import OpenAIEmbeddings\n",
    "    from langchain.vectorstores import Chroma\n",
    "    \n",
    "    vdb_embed_model = OpenAIEmbeddings(model='text-embedding-ada-002')\n",
    "    vectordb = Chroma(\n",
    "        collection_name='sanjay_sarma',\n",
    "        embedding_function=vdb_embed_model,\n",
    "        persist_directory=\"../chromadb\")\n",
    "    \n",
    "    text = \"\"\n",
    "    results = vectordb.similarity_search(query, k=5)\n",
    "    for result in results:\n",
    "        text += result.page_content\n",
    "    return text\n",
    "\n",
    "get_info_tool = letta_client.create_tool(get_sanjay_information)"
   ]
  },
  {
   "cell_type": "code",
   "execution_count": 7,
   "metadata": {},
   "outputs": [
    {
     "name": "stdout",
     "output_type": "stream",
     "text": [
      "Created agent with name dr_sanjay_sarma and unique ID agent-308205a2-d85c-4c86-bba1-af23331551e6\n"
     ]
    }
   ],
   "source": [
    "# Create sanjay agent\n",
    "agent_state = letta_client.create_agent(\n",
    "    name=agent_name,\n",
    "    tool_ids=[get_info_tool.id],\n",
    "    memory=ChatMemory(\n",
    "        human=\"\",\n",
    "        persona=sanjay_persona\n",
    "    )\n",
    ")\n",
    "\n",
    "print(f\"Created agent with name {agent_state.name} and unique ID {agent_state.id}\")"
   ]
  },
  {
   "cell_type": "code",
   "execution_count": 8,
   "metadata": {},
   "outputs": [],
   "source": [
    "# Updating the system prompt\n",
    "agent_state.system = system_prompt"
   ]
  },
  {
   "cell_type": "code",
   "execution_count": 9,
   "metadata": {},
   "outputs": [
    {
     "data": {
      "text/html": [
       "\n",
       "        <style>\n",
       "            .message-container, .usage-container {\n",
       "                font-family: 'Segoe UI', Tahoma, Geneva, Verdana, sans-serif;\n",
       "                max-width: 800px;\n",
       "                margin: 20px auto;\n",
       "                background-color: #1e1e1e;\n",
       "                border-radius: 8px;\n",
       "                overflow: hidden;\n",
       "                color: #d4d4d4;\n",
       "            }\n",
       "            .message, .usage-stats {\n",
       "                padding: 10px 15px;\n",
       "                border-bottom: 1px solid #3a3a3a;\n",
       "            }\n",
       "            .message:last-child, .usage-stats:last-child {\n",
       "                border-bottom: none;\n",
       "            }\n",
       "            .title {\n",
       "                font-weight: bold;\n",
       "                margin-bottom: 5px;\n",
       "                color: #ffffff;\n",
       "                text-transform: uppercase;\n",
       "                font-size: 0.9em;\n",
       "            }\n",
       "            .content {\n",
       "                background-color: #2d2d2d;\n",
       "                border-radius: 4px;\n",
       "                padding: 5px 10px;\n",
       "                font-family: 'Consolas', 'Courier New', monospace;\n",
       "                white-space: pre-wrap;\n",
       "            }\n",
       "            .json-key, .function-name, .json-boolean { color: #9cdcfe; }\n",
       "            .json-string { color: #ce9178; }\n",
       "            .json-number { color: #b5cea8; }\n",
       "            .internal-monologue { font-style: italic; }\n",
       "        </style>\n",
       "        <div class=\"message-container\">\n",
       "        \n",
       "            <div class=\"message\">\n",
       "                <div class=\"title\">REASONING MESSAGE</div>\n",
       "                <div class=\"content\"><span class=\"internal-monologue\">The user wants to know about my educational background. I need to provide a brief overview of my degrees and their significance.</span></div>\n",
       "            </div>\n",
       "            \n",
       "            <div class=\"message\">\n",
       "                <div class=\"title\">TOOL CALL MESSAGE</div>\n",
       "                <div class=\"content\"><span class=\"function-name\">get_sanjay_information</span>({<br>&nbsp;&nbsp;<span class=\"json-key\">\"query\"</span>: <span class=\"json-key\">\"Sanjay Sarma degrees\",<br>&nbsp;&nbsp;\"request_heartbeat\"</span>: <span class=\"json-boolean\">true</span><br>})</div>\n",
       "            </div>\n",
       "            \n",
       "            <div class=\"message\">\n",
       "                <div class=\"title\">TOOL RETURN MESSAGE</div>\n",
       "                <div class=\"content\">{<br>&nbsp;&nbsp;<span class=\"json-key\">\"status\"</span>: <span class=\"json-key\">\"OK\",<br>&nbsp;&nbsp;\"message\"</span>: <span class=\"json-key\">\"Sanjay Sarma earned his Bachelor’s degree in mechanical engineering from the Indian&nbsp;&nbsp;Institute of Technology, Kanpur in 1989, before pursuing advanced studies at Carnegie&nbsp;&nbsp;Mellon University where he completed his Master's degree in 1992, specializing in&nbsp;&nbsp;operations research. He earned his PhD in mechanical engineering from the University&nbsp;&nbsp;of California, Berkeley in 1995, focusing on automation and systems optimization.[5] Between degrees, he worked at Schlumberger Oilfield Services in Aberdeen,Sanjay Sarma's career path is a remarkable journey that spans academia, innovation,&nbsp;&nbsp;and entrepreneurship. His extensive experience and contributions to education and&nbsp;&nbsp;technology have established him as a leading figure in these fields. Below is a detailed&nbsp;&nbsp;overview of his career trajectory: \\n\\nEarly Career:\\n\\n1. Initial Professional ExperienceSanjay Sarma has received numerous awards and recognitions throughout his&nbsp;&nbsp;distinguished career, reflecting his significant contributions to academia, technology,&nbsp;&nbsp;and education. Below is a comprehensive overview of his awards and recognitions: \\n\\nMajor Awards and Honors \\n\\n1. MIT MacVicar Fellowship \\n\\n● Description: This prestigious fellowship is awarded to faculty members at MIT&nbsp;&nbsp;who demonstrate excellence in undergraduate education. It recognizes&nbsp;&nbsp;outstanding teaching and mentorship.Since 2023, Sarma has been leading the Asia School of Business, where he integrates&nbsp;&nbsp;technology, sustainability, and innovation into business education to prepare leaders for&nbsp;&nbsp;the challenges of a rapidly changing world. \\n\\nEducational Background \\n\\n1. Bachelor's Degree \\n\\n● Institution: Indian Institute of Technology (IIT), Kanpur \\n\\n● Field of Study: Mechanical Engineering \\n\\n● Year of Graduation: <span class=\"json-number\">1989</span>Recognition \\n\\nSanjay Sarma's career has been marked by numerous accolades: \\n\\n● He received the MIT MacVicar Fellowship for excellence in teaching. ● He was honored with the National Science Foundation CAREER Award,&nbsp;&nbsp;recognizing his contributions to research and education. \\n\\n● Featured by publications like Business Week and Fast Company for his&nbsp;&nbsp;innovations in technology and education.\",<br>&nbsp;&nbsp;\"time\"</span>: <span class=\"json-string\">\"2025-01-12 07:46:18 AM UTC+0000\"</span><br>}</div>\n",
       "            </div>\n",
       "            \n",
       "            <div class=\"message\">\n",
       "                <div class=\"title\">REASONING MESSAGE</div>\n",
       "                <div class=\"content\"><span class=\"internal-monologue\">Received information about my degrees. Time to summarize and present it clearly to the user.</span></div>\n",
       "            </div>\n",
       "            \n",
       "            <div class=\"message\">\n",
       "                <div class=\"title\">TOOL CALL MESSAGE</div>\n",
       "                <div class=\"content\"><span class=\"function-name\">send_message</span>({<br>&nbsp;&nbsp;<span class=\"json-key\">\"message\"</span>: <span class=\"json-string\">\"I earned my Bachelor's degree in Mechanical Engineering from the Indian Institute of Technology, Kanpur in 1989. Then, I completed my Master's in Operations Research at Carnegie Mellon University in 1992, followed by a PhD in Mechanical Engineering from the University of California, Berkeley in 1995, focusing on automation and systems optimization. My educational journey has shaped my career in academia and technology.\"</span><br>})</div>\n",
       "            </div>\n",
       "            \n",
       "            <div class=\"message\">\n",
       "                <div class=\"title\">TOOL RETURN MESSAGE</div>\n",
       "                <div class=\"content\">{<br>&nbsp;&nbsp;<span class=\"json-key\">\"status\"</span>: <span class=\"json-key\">\"OK\",<br>&nbsp;&nbsp;\"message\"</span>: <span class=\"json-key\">\"None\",<br>&nbsp;&nbsp;\"time\"</span>: <span class=\"json-string\">\"2025-01-12 07:46:21 AM UTC+0000\"</span><br>}</div>\n",
       "            </div>\n",
       "            </div>\n",
       "        <div class=\"usage-container\">\n",
       "            <div class=\"usage-stats\">\n",
       "                <div class=\"title\">USAGE STATISTICS</div>\n",
       "                <div class=\"content\">{<br>&nbsp;&nbsp;<span class=\"json-key\">\"message_type\"</span>: <span class=\"json-key\">\"usage_statistics\",<br>&nbsp;&nbsp;\"completion_tokens\"</span>: <span class=\"json-number\">173</span>,<br>&nbsp;&nbsp;<span class=\"json-key\">\"prompt_tokens\"</span>: <span class=\"json-number\">5098</span>,<br>&nbsp;&nbsp;<span class=\"json-key\">\"total_tokens\"</span>: <span class=\"json-number\">5271</span>,<br>&nbsp;&nbsp;<span class=\"json-key\">\"step_count\"</span>: <span class=\"json-number\">2</span><br>}</div>\n",
       "            </div>\n",
       "        </div>\n",
       "        "
      ],
      "text/plain": [
       "LettaResponse(messages=[ReasoningMessage(id='message-b6a4050a-2087-4ad4-9098-e6adac2a75cf', date=datetime.datetime(2025, 1, 12, 7, 46, 18, 325633, tzinfo=datetime.timezone.utc), message_type='reasoning_message', reasoning='The user wants to know about my educational background. I need to provide a brief overview of my degrees and their significance.'), ToolCallMessage(id='message-b6a4050a-2087-4ad4-9098-e6adac2a75cf', date=datetime.datetime(2025, 1, 12, 7, 46, 18, 325633, tzinfo=datetime.timezone.utc), message_type='tool_call_message', tool_call=ToolCall(name='get_sanjay_information', arguments='{\\n  \"query\": \"Sanjay Sarma degrees\",\\n  \"request_heartbeat\": true\\n}', tool_call_id='call_oy8nGPAHtHcBdtDBoPz3ZVL3')), ToolReturnMessage(id='message-990a1b71-dc56-4213-a12d-3175a518ae57', date=datetime.datetime(2025, 1, 12, 7, 46, 18, 781889, tzinfo=datetime.timezone.utc), message_type='tool_return_message', tool_return='{\\n  \"status\": \"OK\",\\n  \"message\": \"Sanjay Sarma earned his Bachelor’s degree in mechanical engineering from the Indian  Institute of Technology, Kanpur in 1989, before pursuing advanced studies at Carnegie  Mellon University where he completed his Master\\'s degree in 1992, specializing in  operations research. He earned his PhD in mechanical engineering from the University  of California, Berkeley in 1995, focusing on automation and systems optimization.[5] Between degrees, he worked at Schlumberger Oilfield Services in Aberdeen,Sanjay Sarma\\'s career path is a remarkable journey that spans academia, innovation,  and entrepreneurship. His extensive experience and contributions to education and  technology have established him as a leading figure in these fields. Below is a detailed  overview of his career trajectory: \\\\n\\\\nEarly Career:\\\\n\\\\n1. Initial Professional ExperienceSanjay Sarma has received numerous awards and recognitions throughout his  distinguished career, reflecting his significant contributions to academia, technology,  and education. Below is a comprehensive overview of his awards and recognitions: \\\\n\\\\nMajor Awards and Honors \\\\n\\\\n1. MIT MacVicar Fellowship \\\\n\\\\n● Description: This prestigious fellowship is awarded to faculty members at MIT  who demonstrate excellence in undergraduate education. It recognizes  outstanding teaching and mentorship.Since 2023, Sarma has been leading the Asia School of Business, where he integrates  technology, sustainability, and innovation into business education to prepare leaders for  the challenges of a rapidly changing world. \\\\n\\\\nEducational Background \\\\n\\\\n1. Bachelor\\'s Degree \\\\n\\\\n● Institution: Indian Institute of Technology (IIT), Kanpur \\\\n\\\\n● Field of Study: Mechanical Engineering \\\\n\\\\n● Year of Graduation: 1989Recognition \\\\n\\\\nSanjay Sarma\\'s career has been marked by numerous accolades: \\\\n\\\\n● He received the MIT MacVicar Fellowship for excellence in teaching. ● He was honored with the National Science Foundation CAREER Award,  recognizing his contributions to research and education. \\\\n\\\\n● Featured by publications like Business Week and Fast Company for his  innovations in technology and education.\",\\n  \"time\": \"2025-01-12 07:46:18 AM UTC+0000\"\\n}', status='success', tool_call_id='call_oy8nGPAHtHcBdtDBoPz3ZVL3', stdout=None, stderr=None), ReasoningMessage(id='message-1c81e46c-41cd-4c48-a07d-3a307f1e06b7', date=datetime.datetime(2025, 1, 12, 7, 46, 21, 242778, tzinfo=datetime.timezone.utc), message_type='reasoning_message', reasoning='Received information about my degrees. Time to summarize and present it clearly to the user.'), ToolCallMessage(id='message-1c81e46c-41cd-4c48-a07d-3a307f1e06b7', date=datetime.datetime(2025, 1, 12, 7, 46, 21, 242778, tzinfo=datetime.timezone.utc), message_type='tool_call_message', tool_call=ToolCall(name='send_message', arguments='{\\n  \"message\": \"I earned my Bachelor\\'s degree in Mechanical Engineering from the Indian Institute of Technology, Kanpur in 1989. Then, I completed my Master\\'s in Operations Research at Carnegie Mellon University in 1992, followed by a PhD in Mechanical Engineering from the University of California, Berkeley in 1995, focusing on automation and systems optimization. My educational journey has shaped my career in academia and technology.\"\\n}', tool_call_id='call_i9t9HtDcEcwBHuuAXRp0bFYM')), ToolReturnMessage(id='message-b7f4a56b-9563-4977-aeca-9bcfb5284c63', date=datetime.datetime(2025, 1, 12, 7, 46, 21, 244786, tzinfo=datetime.timezone.utc), message_type='tool_return_message', tool_return='{\\n  \"status\": \"OK\",\\n  \"message\": \"None\",\\n  \"time\": \"2025-01-12 07:46:21 AM UTC+0000\"\\n}', status='success', tool_call_id='call_i9t9HtDcEcwBHuuAXRp0bFYM', stdout=None, stderr=None)], usage=LettaUsageStatistics(message_type='usage_statistics', completion_tokens=173, prompt_tokens=5098, total_tokens=5271, step_count=2))"
      ]
     },
     "execution_count": 9,
     "metadata": {},
     "output_type": "execute_result"
    }
   ],
   "source": [
    "# Getting and printing response\n",
    "user_message = \"Tell me all about your degrees\"\n",
    "\n",
    "response = letta_client.send_message(\n",
    "    agent_id=agent_state.id, \n",
    "    message=user_message, \n",
    "    role=\"user\" \n",
    ")\n",
    "response"
   ]
  }
 ],
 "metadata": {
  "kernelspec": {
   "display_name": "Python 3",
   "language": "python",
   "name": "python3"
  },
  "language_info": {
   "codemirror_mode": {
    "name": "ipython",
    "version": 3
   },
   "file_extension": ".py",
   "mimetype": "text/x-python",
   "name": "python",
   "nbconvert_exporter": "python",
   "pygments_lexer": "ipython3",
   "version": "3.12.3"
  }
 },
 "nbformat": 4,
 "nbformat_minor": 2
}
