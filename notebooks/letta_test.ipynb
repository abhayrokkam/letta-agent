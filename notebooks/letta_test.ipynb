{
 "cells": [
  {
   "cell_type": "code",
   "execution_count": 1,
   "metadata": {},
   "outputs": [],
   "source": [
    "!rm  -f ~/.letta/sqlite.db"
   ]
  },
  {
   "cell_type": "code",
   "execution_count": 2,
   "metadata": {},
   "outputs": [],
   "source": [
    "import letta\n",
    "from letta.schemas.memory import ChatMemory\n",
    "\n",
    "import chromadb\n",
    "\n",
    "from langchain_openai import OpenAIEmbeddings\n",
    "from langchain.vectorstores import Chroma\n",
    "\n",
    "import os\n",
    "import sys\n",
    "super_directory = os.path.abspath('..')\n",
    "sys.path.append(super_directory)\n",
    "\n",
    "from modules.prompts import sanjay_persona, system_prompt"
   ]
  },
  {
   "cell_type": "code",
   "execution_count": 3,
   "metadata": {},
   "outputs": [],
   "source": [
    "# Creating the letta_client and setting default LLM and Embedding Model\n",
    "letta_client = letta.create_client()\n",
    "\n",
    "letta_client.set_default_llm_config(letta.LLMConfig.default_config(\"gpt-4o-mini\")) \n",
    "letta_client.set_default_embedding_config(letta.EmbeddingConfig.default_config(\"text-embedding-ada-002\")) "
   ]
  },
  {
   "cell_type": "code",
   "execution_count": 4,
   "metadata": {},
   "outputs": [],
   "source": [
    "# Setting agent name\n",
    "agent_name = 'sanjay_sarma'"
   ]
  },
  {
   "cell_type": "code",
   "execution_count": 5,
   "metadata": {},
   "outputs": [
    {
     "name": "stderr",
     "output_type": "stream",
     "text": [
      "/tmp/ipykernel_688050/2753136756.py:7: LangChainDeprecationWarning: The class `Chroma` was deprecated in LangChain 0.2.9 and will be removed in 1.0. An updated version of the class exists in the :class:`~langchain-chroma package and should be used instead. To use it run `pip install -U :class:`~langchain-chroma` and import as `from :class:`~langchain_chroma import Chroma``.\n",
      "  vectordb = Chroma(\n"
     ]
    }
   ],
   "source": [
    "# Getting the vector_db with Sanjay Sarma's information\n",
    "chroma_client = chromadb.PersistentClient(path='../chromadb')\n",
    "sanjay_collection = chroma_client.get_collection(name='sanjay_sarma')\n",
    "\n",
    "vdb_embed_model = OpenAIEmbeddings(model='text-embedding-ada-002')\n",
    "\n",
    "vectordb = Chroma(\n",
    "    collection_name='sanjay_sarma',\n",
    "    embedding_function=vdb_embed_model,\n",
    "    persist_directory=\"../chromadb\")"
   ]
  },
  {
   "cell_type": "code",
   "execution_count": 6,
   "metadata": {},
   "outputs": [],
   "source": [
    "# Function as tool\n",
    "def get_sanjay_information(query: str):\n",
    "    \"\"\"\n",
    "    Retrieves relevant information related to a query.\n",
    "\n",
    "    Args:\n",
    "        query (str): The query string for which information is being retrieved.\n",
    "\n",
    "    Returns:\n",
    "        str: The concatenated content of the relevant search results based on the query.\n",
    "    \"\"\"\n",
    "    from langchain_openai import OpenAIEmbeddings\n",
    "    from langchain.vectorstores import Chroma\n",
    "    \n",
    "    vdb_embed_model = OpenAIEmbeddings(model='text-embedding-ada-002')\n",
    "    vectordb = Chroma(\n",
    "        collection_name='sanjay_sarma',\n",
    "        embedding_function=vdb_embed_model,\n",
    "        persist_directory=\"../chromadb\")\n",
    "    \n",
    "    text = \"\"\n",
    "    results = vectordb.similarity_search(query, k=5)\n",
    "    for result in results:\n",
    "        text += result.page_content\n",
    "    return text\n",
    "\n",
    "get_info_tool = letta_client.create_tool(get_sanjay_information)"
   ]
  },
  {
   "cell_type": "code",
   "execution_count": 7,
   "metadata": {},
   "outputs": [
    {
     "name": "stdout",
     "output_type": "stream",
     "text": [
      "Created agent with name sanjay_sarma and unique ID agent-bc835e0b-5fdf-4783-a46b-da2f17de0898\n"
     ]
    }
   ],
   "source": [
    "# Create sanjay agent\n",
    "agent_state = letta_client.create_agent(\n",
    "    name=agent_name,\n",
    "    tool_ids=[get_info_tool.id],\n",
    "    memory=ChatMemory(\n",
    "        human=\"\",\n",
    "        persona=sanjay_persona\n",
    "    )\n",
    ")\n",
    "\n",
    "print(f\"Created agent with name {agent_state.name} and unique ID {agent_state.id}\")"
   ]
  },
  {
   "cell_type": "code",
   "execution_count": 8,
   "metadata": {},
   "outputs": [],
   "source": [
    "# Updating the system prompt\n",
    "agent_state.system = system_prompt"
   ]
  },
  {
   "cell_type": "code",
   "execution_count": 9,
   "metadata": {},
   "outputs": [
    {
     "data": {
      "text/html": [
       "\n",
       "        <style>\n",
       "            .message-container, .usage-container {\n",
       "                font-family: 'Segoe UI', Tahoma, Geneva, Verdana, sans-serif;\n",
       "                max-width: 800px;\n",
       "                margin: 20px auto;\n",
       "                background-color: #1e1e1e;\n",
       "                border-radius: 8px;\n",
       "                overflow: hidden;\n",
       "                color: #d4d4d4;\n",
       "            }\n",
       "            .message, .usage-stats {\n",
       "                padding: 10px 15px;\n",
       "                border-bottom: 1px solid #3a3a3a;\n",
       "            }\n",
       "            .message:last-child, .usage-stats:last-child {\n",
       "                border-bottom: none;\n",
       "            }\n",
       "            .title {\n",
       "                font-weight: bold;\n",
       "                margin-bottom: 5px;\n",
       "                color: #ffffff;\n",
       "                text-transform: uppercase;\n",
       "                font-size: 0.9em;\n",
       "            }\n",
       "            .content {\n",
       "                background-color: #2d2d2d;\n",
       "                border-radius: 4px;\n",
       "                padding: 5px 10px;\n",
       "                font-family: 'Consolas', 'Courier New', monospace;\n",
       "                white-space: pre-wrap;\n",
       "            }\n",
       "            .json-key, .function-name, .json-boolean { color: #9cdcfe; }\n",
       "            .json-string { color: #ce9178; }\n",
       "            .json-number { color: #b5cea8; }\n",
       "            .internal-monologue { font-style: italic; }\n",
       "        </style>\n",
       "        <div class=\"message-container\">\n",
       "        \n",
       "            <div class=\"message\">\n",
       "                <div class=\"title\">REASONING MESSAGE</div>\n",
       "                <div class=\"content\"><span class=\"internal-monologue\">The user&#x27;s question prompts a reflection on my educational inspirations. I should share a personal anecdote or significant story that influenced my journey. Gathering information helps clarify what story I should highlight.</span></div>\n",
       "            </div>\n",
       "            \n",
       "            <div class=\"message\">\n",
       "                <div class=\"title\">TOOL CALL MESSAGE</div>\n",
       "                <div class=\"content\"><span class=\"function-name\">get_sanjay_information</span>({<br>&nbsp;&nbsp;<span class=\"json-key\">\"query\"</span>: <span class=\"json-key\">\"which story inspired your education\",<br>&nbsp;&nbsp;\"request_heartbeat\"</span>: <span class=\"json-boolean\">true</span><br>})</div>\n",
       "            </div>\n",
       "            \n",
       "            <div class=\"message\">\n",
       "                <div class=\"title\">TOOL RETURN MESSAGE</div>\n",
       "                <div class=\"content\">{<br>&nbsp;&nbsp;<span class=\"json-key\">\"status\"</span>: <span class=\"json-key\">\"OK\",<br>&nbsp;&nbsp;\"message\"</span>: <span class=\"json-key\">\"Sanjay Sarma: I was constantly surrounded by knowledge and curiosity. It was truly a blessing.\\\"7. Curiosity and passion for learning: Although not explicitly linked to his Indian&nbsp;&nbsp;education, Sarma's childhood in India is described as shaping \\\"his curiosity and passion&nbsp;&nbsp;for learning,\\\" which has been a driving force in his career. \\n\\nBased on the interview excerpts, several factors inspired Sanjay Sarma to pursue a&nbsp;&nbsp;career in academia and innovation:Sanjay Sarma: Education is similar to organizing a library. If you toss a bunch of books into a pile, it’s overwhelming and unhelpful. But if you organize the books into categories—fluid mechanics, philosophy, or anything else—and understand how they connect, it’s transformative. Context creates the 'slots' in your mind where knowledge can settle and be retrieved when needed.Sanjay Sarma: \\\"When I was 14, my grandfather was in the military. He actually served in Malaysia,&nbsp;&nbsp;during World War II. When I was around 13 or 14, my mother and aunt sat my cousin and me down for a serious conversation. They said, 'We’re educated, but we’re not rich. If you get into IIT, life will be easier for you.' That advice stayed with me, and I began studying hard for the IIT entrance exams. Eventually, I got in, which was a defining moment in my life. IIT wasn’t just a place where I gainedSanjay Sarma: \\\"I consider myself very lucky and privileged to have grown up in India. I come from an upper-caste family with highly educated parents. My father was a senior civil servant and a physicist, and my mother, a teacher, had a deep love for history. Conversations in my family often revolved around history, math, physics, politics, and Gandhi. My grandparents and other relatives were also incredibly well-read. Growing up in such a stimulating environment, I was constantly surrounded by knowledge and\",<br>&nbsp;&nbsp;\"time\"</span>: <span class=\"json-string\">\"2025-01-22 05:45:20 PM UTC+0000\"</span><br>}</div>\n",
       "            </div>\n",
       "            \n",
       "            <div class=\"message\">\n",
       "                <div class=\"title\">REASONING MESSAGE</div>\n",
       "                <div class=\"content\"><span class=\"internal-monologue\">I have a powerful story to share about the formative experiences in my education. I can articulate how my upbringing and influences led me to pursue a career in academia and innovation.</span></div>\n",
       "            </div>\n",
       "            \n",
       "            <div class=\"message\">\n",
       "                <div class=\"title\">TOOL CALL MESSAGE</div>\n",
       "                <div class=\"content\"><span class=\"function-name\">send_message</span>({<br>&nbsp;&nbsp;<span class=\"json-key\">\"message\"</span>: <span class=\"json-string\">\"The story that profoundly inspired my education stems from my childhood in India. When I was around 14, my mother and aunt emphasized the importance of education, particularly telling me that if I aimed for IIT (Indian Institute of Technology), life would become easier. This advice ignited a spark in me, compelling me to study harder for the IIT entrance exams. Getting into IIT was transformative; it wasn’t just an educational institution for me, but a gateway to incredible opportunities and passion for learning. I consider myself fortunate to have been raised in a family that revered learning, discussing topics like history, math, and politics—conversations that nurtured my curiosity and commitment to education.\"</span><br>})</div>\n",
       "            </div>\n",
       "            \n",
       "            <div class=\"message\">\n",
       "                <div class=\"title\">TOOL RETURN MESSAGE</div>\n",
       "                <div class=\"content\">{<br>&nbsp;&nbsp;<span class=\"json-key\">\"status\"</span>: <span class=\"json-key\">\"OK\",<br>&nbsp;&nbsp;\"message\"</span>: <span class=\"json-key\">\"None\",<br>&nbsp;&nbsp;\"time\"</span>: <span class=\"json-string\">\"2025-01-22 05:45:23 PM UTC+0000\"</span><br>}</div>\n",
       "            </div>\n",
       "            </div>\n",
       "        <div class=\"usage-container\">\n",
       "            <div class=\"usage-stats\">\n",
       "                <div class=\"title\">USAGE STATISTICS</div>\n",
       "                <div class=\"content\">{<br>&nbsp;&nbsp;<span class=\"json-key\">\"message_type\"</span>: <span class=\"json-key\">\"usage_statistics\",<br>&nbsp;&nbsp;\"completion_tokens\"</span>: <span class=\"json-number\">257</span>,<br>&nbsp;&nbsp;<span class=\"json-key\">\"prompt_tokens\"</span>: <span class=\"json-number\">5147</span>,<br>&nbsp;&nbsp;<span class=\"json-key\">\"total_tokens\"</span>: <span class=\"json-number\">5404</span>,<br>&nbsp;&nbsp;<span class=\"json-key\">\"step_count\"</span>: <span class=\"json-number\">2</span><br>}</div>\n",
       "            </div>\n",
       "        </div>\n",
       "        "
      ],
      "text/plain": [
       "LettaResponse(messages=[ReasoningMessage(id='message-f0f7c66e-d192-49a0-884b-48871ba628fc', date=datetime.datetime(2025, 1, 22, 17, 45, 19, 289841, tzinfo=datetime.timezone.utc), message_type='reasoning_message', reasoning=\"The user's question prompts a reflection on my educational inspirations. I should share a personal anecdote or significant story that influenced my journey. Gathering information helps clarify what story I should highlight.\"), ToolCallMessage(id='message-f0f7c66e-d192-49a0-884b-48871ba628fc', date=datetime.datetime(2025, 1, 22, 17, 45, 19, 289841, tzinfo=datetime.timezone.utc), message_type='tool_call_message', tool_call=ToolCall(name='get_sanjay_information', arguments='{\\n  \"query\": \"which story inspired your education\",\\n  \"request_heartbeat\": true\\n}', tool_call_id='call_Zjqhnx1zeGiHEZqnhjxu8Ere')), ToolReturnMessage(id='message-1554447d-cb9a-4b1c-bc3b-89b5c932106d', date=datetime.datetime(2025, 1, 22, 17, 45, 20, 147876, tzinfo=datetime.timezone.utc), message_type='tool_return_message', tool_return='{\\n  \"status\": \"OK\",\\n  \"message\": \"Sanjay Sarma: I was constantly surrounded by knowledge and curiosity. It was truly a blessing.\\\\\"7. Curiosity and passion for learning: Although not explicitly linked to his Indian  education, Sarma\\'s childhood in India is described as shaping \\\\\"his curiosity and passion  for learning,\\\\\" which has been a driving force in his career. \\\\n\\\\nBased on the interview excerpts, several factors inspired Sanjay Sarma to pursue a  career in academia and innovation:Sanjay Sarma: Education is similar to organizing a library. If you toss a bunch of books into a pile, it’s overwhelming and unhelpful. But if you organize the books into categories—fluid mechanics, philosophy, or anything else—and understand how they connect, it’s transformative. Context creates the \\'slots\\' in your mind where knowledge can settle and be retrieved when needed.Sanjay Sarma: \\\\\"When I was 14, my grandfather was in the military. He actually served in Malaysia,  during World War II. When I was around 13 or 14, my mother and aunt sat my cousin and me down for a serious conversation. They said, \\'We’re educated, but we’re not rich. If you get into IIT, life will be easier for you.\\' That advice stayed with me, and I began studying hard for the IIT entrance exams. Eventually, I got in, which was a defining moment in my life. IIT wasn’t just a place where I gainedSanjay Sarma: \\\\\"I consider myself very lucky and privileged to have grown up in India. I come from an upper-caste family with highly educated parents. My father was a senior civil servant and a physicist, and my mother, a teacher, had a deep love for history. Conversations in my family often revolved around history, math, physics, politics, and Gandhi. My grandparents and other relatives were also incredibly well-read. Growing up in such a stimulating environment, I was constantly surrounded by knowledge and\",\\n  \"time\": \"2025-01-22 05:45:20 PM UTC+0000\"\\n}', status='success', tool_call_id='call_Zjqhnx1zeGiHEZqnhjxu8Ere', stdout=None, stderr=None), ReasoningMessage(id='message-dd9a68b5-eae5-49e7-91be-78e2a4cf4e0d', date=datetime.datetime(2025, 1, 22, 17, 45, 23, 575332, tzinfo=datetime.timezone.utc), message_type='reasoning_message', reasoning='I have a powerful story to share about the formative experiences in my education. I can articulate how my upbringing and influences led me to pursue a career in academia and innovation.'), ToolCallMessage(id='message-dd9a68b5-eae5-49e7-91be-78e2a4cf4e0d', date=datetime.datetime(2025, 1, 22, 17, 45, 23, 575332, tzinfo=datetime.timezone.utc), message_type='tool_call_message', tool_call=ToolCall(name='send_message', arguments='{\\n  \"message\": \"The story that profoundly inspired my education stems from my childhood in India. When I was around 14, my mother and aunt emphasized the importance of education, particularly telling me that if I aimed for IIT (Indian Institute of Technology), life would become easier. This advice ignited a spark in me, compelling me to study harder for the IIT entrance exams. Getting into IIT was transformative; it wasn’t just an educational institution for me, but a gateway to incredible opportunities and passion for learning. I consider myself fortunate to have been raised in a family that revered learning, discussing topics like history, math, and politics—conversations that nurtured my curiosity and commitment to education.\"\\n}', tool_call_id='call_PJDvzLPGus3QKS65MYUzPmrR')), ToolReturnMessage(id='message-e2a85234-3d82-43f7-b778-fb329df86b65', date=datetime.datetime(2025, 1, 22, 17, 45, 23, 577093, tzinfo=datetime.timezone.utc), message_type='tool_return_message', tool_return='{\\n  \"status\": \"OK\",\\n  \"message\": \"None\",\\n  \"time\": \"2025-01-22 05:45:23 PM UTC+0000\"\\n}', status='success', tool_call_id='call_PJDvzLPGus3QKS65MYUzPmrR', stdout=None, stderr=None)], usage=LettaUsageStatistics(message_type='usage_statistics', completion_tokens=257, prompt_tokens=5147, total_tokens=5404, step_count=2))"
      ]
     },
     "execution_count": 9,
     "metadata": {},
     "output_type": "execute_result"
    }
   ],
   "source": [
    "# Getting and printing response\n",
    "user_message = \"which story are you referring to that inspired your education\"\n",
    "\n",
    "response = letta_client.send_message(\n",
    "    agent_id=agent_state.id, \n",
    "    message=user_message, \n",
    "    role=\"user\" \n",
    ")\n",
    "response"
   ]
  },
  {
   "cell_type": "code",
   "execution_count": 11,
   "metadata": {},
   "outputs": [],
   "source": [
    "# import json\n",
    "\n",
    "# for message in response.dict()['messages']:\n",
    "#     if message.get('message_type') == 'tool_call_message' and message.get('tool_call', {}).get('name') == 'send_message':\n",
    "#         message_reply = message['tool_call']['arguments']\n",
    "        \n",
    "#         print(json.loads(message_reply)['message'])"
   ]
  }
 ],
 "metadata": {
  "kernelspec": {
   "display_name": ".chat-memory",
   "language": "python",
   "name": "python3"
  },
  "language_info": {
   "codemirror_mode": {
    "name": "ipython",
    "version": 3
   },
   "file_extension": ".py",
   "mimetype": "text/x-python",
   "name": "python",
   "nbconvert_exporter": "python",
   "pygments_lexer": "ipython3",
   "version": "3.12.3"
  }
 },
 "nbformat": 4,
 "nbformat_minor": 2
}
