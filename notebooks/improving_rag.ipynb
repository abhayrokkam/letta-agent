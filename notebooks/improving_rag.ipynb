{
 "cells": [
  {
   "cell_type": "code",
   "execution_count": 1,
   "metadata": {},
   "outputs": [],
   "source": [
    "import chromadb\n",
    "\n",
    "from langchain_openai import OpenAIEmbeddings\n",
    "from langchain.vectorstores import Chroma"
   ]
  },
  {
   "cell_type": "code",
   "execution_count": 2,
   "metadata": {},
   "outputs": [
    {
     "name": "stderr",
     "output_type": "stream",
     "text": [
      "/tmp/ipykernel_195794/1410925869.py:7: LangChainDeprecationWarning: The class `Chroma` was deprecated in LangChain 0.2.9 and will be removed in 1.0. An updated version of the class exists in the :class:`~langchain-chroma package and should be used instead. To use it run `pip install -U :class:`~langchain-chroma` and import as `from :class:`~langchain_chroma import Chroma``.\n",
      "  vectordb = Chroma(\n"
     ]
    }
   ],
   "source": [
    "# Getting the vector_db with Sanjay Sarma's information\n",
    "chroma_client = chromadb.PersistentClient(path='./chromadb')\n",
    "sanjay_collection = chroma_client.get_collection(name='sanjay_sarma')\n",
    "\n",
    "vdb_embed_model = OpenAIEmbeddings(model='text-embedding-ada-002')\n",
    "\n",
    "vectordb = Chroma(\n",
    "    collection_name='sanjay_sarma',\n",
    "    embedding_function=vdb_embed_model,\n",
    "    persist_directory=\"./chromadb\")"
   ]
  },
  {
   "cell_type": "code",
   "execution_count": 3,
   "metadata": {},
   "outputs": [],
   "source": [
    "# Function as tool\n",
    "def get_sanjay_information(query: str):\n",
    "    \"\"\"\n",
    "    Retrieves relevant information related to a query.\n",
    "\n",
    "    Args:\n",
    "        query (str): The query string for which information is being retrieved.\n",
    "\n",
    "    Returns:\n",
    "        str: The concatenated content of the relevant search results based on the query.\n",
    "    \"\"\"\n",
    "    text = \"\"\n",
    "    results = vectordb.similarity_search(query, k=3)\n",
    "    for result in results:\n",
    "        text += result.page_content + \"/n\"\n",
    "    return text"
   ]
  },
  {
   "cell_type": "code",
   "execution_count": 4,
   "metadata": {},
   "outputs": [
    {
     "name": "stdout",
     "output_type": "stream",
     "text": [
      "- He talks about spending time with his grandparents and cousins during summer  vacations, particularly mentioning activities near the sea and building model ships. \n",
      "\n",
      "5. Childhood: \n",
      "\n",
      " - Sarma was an only child. \n",
      "\n",
      " - His family moved frequently (10-15 times) during his childhood due to his father's  work as a bureaucrat. \n",
      "\n",
      "6. Family Background:/nSanjay Sarma: happened before, you know,  growing up in India, you know, Gandhi did that by this\n",
      "\n",
      "idealism.  I didn't, my family isn't from the front of the four or five major metropolises. It's from, you know, halfway between Madras and Calcutta.\n",
      "\n",
      "And,  but my grandfather, my great -grandfather joined the freedom/nSanjay Sarma: On growing up in India:\n",
      "\n",
      "You know, I grew up, I'm very lucky. I'm very privileged. I grew up upper caste family,\n",
      "\n",
      "very educated parents. My father was a very senior civil servant, a physicist.\n",
      "\n",
      "My mother was a teacher and a great person. She loves history. All my relatives,\n",
      "\n",
      "My grandparents, et cetera, are very well read. I was very privileged. And I grew up with conversations about history and math and physics and politics and Gandhi, you know, I was a lucky guy growing up./n\n"
     ]
    }
   ],
   "source": [
    "user_message = \"Tell me about your grandfather? What did he do?\"\n",
    "\n",
    "info = get_sanjay_information(query=user_message)\n",
    "print(info)"
   ]
  }
 ],
 "metadata": {
  "kernelspec": {
   "display_name": ".chat-memory",
   "language": "python",
   "name": "python3"
  },
  "language_info": {
   "codemirror_mode": {
    "name": "ipython",
    "version": 3
   },
   "file_extension": ".py",
   "mimetype": "text/x-python",
   "name": "python",
   "nbconvert_exporter": "python",
   "pygments_lexer": "ipython3",
   "version": "3.12.3"
  }
 },
 "nbformat": 4,
 "nbformat_minor": 2
}
